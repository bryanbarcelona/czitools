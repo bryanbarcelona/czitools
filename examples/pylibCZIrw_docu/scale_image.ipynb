{
 "cells": [
  {
   "cell_type": "code",
   "execution_count": 5,
   "id": "6c08c35e",
   "metadata": {},
   "outputs": [
    {
     "name": "stdout",
     "output_type": "stream",
     "text": [
      "Using: C:\\Users\\m1srh\\Miniconda3\\envs\\napari-src\\python.exe\n"
     ]
    }
   ],
   "source": [
    "from pylibCZIrw import czi as pyczi\n",
    "import json\n",
    "from matplotlib import pyplot as plt\n",
    "import matplotlib.cm as cm\n",
    "import numpy as np\n",
    "import os, sys\n",
    "from tqdm import tqdm\n",
    "from tqdm.contrib import itertools as it\n",
    "from matplotlib.patches import Rectangle\n",
    "from typing import List, Dict, Tuple, Optional, Type, Any, Union\n",
    "from skimage.transform import rescale, resize\n",
    "\n",
    "# show the used python env\n",
    "print(\"Using:\", sys.executable)"
   ]
  },
  {
   "cell_type": "code",
   "execution_count": 2,
   "id": "a30079a4",
   "metadata": {},
   "outputs": [],
   "source": [
    "class CziScaling:\n",
    "    def __init__(self, filename: str, dim2none: bool = True) -> None:\n",
    "\n",
    "        # get metadata dictionary using pylibCZIrw\n",
    "        with pyczi.open_czi(filename) as czidoc:\n",
    "            md_dict = czidoc.metadata\n",
    "\n",
    "        # get the XY scaling information\n",
    "        try:\n",
    "            self.X = float(md_dict[\"ImageDocument\"][\"Metadata\"][\"Scaling\"][\"Items\"][\"Distance\"][0][\"Value\"]) * 1000000\n",
    "            self.Y = float(md_dict[\"ImageDocument\"][\"Metadata\"][\"Scaling\"][\"Items\"][\"Distance\"][1][\"Value\"]) * 1000000\n",
    "            self.X = np.round(self.X, 3)\n",
    "            self.Y = np.round(self.Y, 3)\n",
    "        except (KeyError, TypeError) as e:\n",
    "            print(\"Error extracting XY Scale  :\", e)\n",
    "            self.X = 1.0\n",
    "            self.Y = 1.0\n",
    "\n",
    "        try:\n",
    "            self.XUnit = md_dict[\"ImageDocument\"][\"Metadata\"][\"Scaling\"][\"Items\"][\"Distance\"][0][\"DefaultUnitFormat\"]\n",
    "            self.YUnit = md_dict[\"ImageDocument\"][\"Metadata\"][\"Scaling\"][\"Items\"][\"Distance\"][1][\"DefaultUnitFormat\"]\n",
    "        except (KeyError, TypeError) as e:\n",
    "            print(\"Error extracting XY ScaleUnit :\", e)\n",
    "            self.XUnit = None\n",
    "            self.YUnit = None\n",
    "\n",
    "        # get the Z scaling information\n",
    "        try:\n",
    "            self.Z = float(md_dict[\"ImageDocument\"][\"Metadata\"][\"Scaling\"][\"Items\"][\"Distance\"][2][\"Value\"]) * 1000000\n",
    "            self.Z = np.round(self.Z, 3)\n",
    "            # additional check for faulty z-scaling\n",
    "            if self.Z == 0.0:\n",
    "                self.Z = 1.0\n",
    "            try:\n",
    "                self.ZUnit = md_dict[\"ImageDocument\"][\"Metadata\"][\"Scaling\"][\"Items\"][\"Distance\"][2][\"DefaultUnitFormat\"]\n",
    "            except (IndexError, KeyError, TypeError) as e:\n",
    "                print(\"Error extracting Z ScaleUnit :\", e)\n",
    "                self.ZUnit = self.XUnit\n",
    "        except (IndexError, KeyError, TypeError) as e:\n",
    "            print(\"Error extracting Z Scale  :\", e)\n",
    "            # set to isotropic scaling if it was single plane only\n",
    "            self.Z = self.X\n",
    "            self.ZUnit = self.XUnit\n",
    "\n",
    "        # convert scale unit to avoid encoding problems\n",
    "        if self.XUnit == \"µm\":\n",
    "            self.XUnit = \"micron\"\n",
    "        if self.YUnit == \"µm\":\n",
    "            self.YUnit = \"micron\"\n",
    "        if self.ZUnit == \"µm\":\n",
    "            self.ZUnit = \"micron\"\n",
    "\n",
    "        # get scaling ratio\n",
    "        self.ratio = self.get_scale_ratio(scalex=self.X,\n",
    "                                          scaley=self.Y,\n",
    "                                          scalez=self.Z)\n",
    "\n",
    "    @staticmethod\n",
    "    def get_scale_ratio(scalex: float = 1.0,\n",
    "                        scaley: float = 1.0,\n",
    "                        scalez: float = 1.0) -> Dict:\n",
    "\n",
    "        # set default scale factor to 1.0\n",
    "        scale_ratio = {\"xy\": 1.0,\n",
    "                       \"zx\": 1.0\n",
    "                       }\n",
    "        try:\n",
    "            # get the factor between XY scaling\n",
    "            scale_ratio[\"xy\"] = np.round(scalex / scaley, 3)\n",
    "            # get the scalefactor between XZ scaling\n",
    "            scale_ratio[\"zx\"] = np.round(scalez / scalex, 3)\n",
    "        except (KeyError, TypeError) as e:\n",
    "            print(e, \"Using defaults = 1.0\")\n",
    "\n",
    "        return scale_ratio"
   ]
  },
  {
   "cell_type": "code",
   "execution_count": 7,
   "id": "fd73cb54",
   "metadata": {},
   "outputs": [
    {
     "name": "stdout",
     "output_type": "stream",
     "text": [
      "Error extracting Z Scale  : list index out of range\n",
      "(480, 640) (264, 352) (480, 640)\n"
     ]
    }
   ],
   "source": [
    "filename = r\"C:\\Users\\m1srh\\Documents\\GitHub\\test_stardist\\data\\DAPI_PGC_5x_0.czi\"\n",
    "\n",
    "cziscale = CziScaling(filename)\n",
    "\n",
    "target_scaleXY = 0.5\n",
    "\n",
    "scale_forward = target_scaleXY / cziscale.X\n",
    "\n",
    "with pyczi.open_czi(filename) as czidoc:\n",
    "    \n",
    "    img = czidoc.read(plane={'C': 0})[..., -1]\n",
    "    \n",
    "    new_shapeY = int(np.round(img.shape[0] * scale_forward, 0))\n",
    "    new_shapeX = int(np.round(img.shape[1] * scale_forward, 0))\n",
    "    \n",
    "    img_scale_forward = resize(img, (new_shapeY, new_shapeX), anti_aliasing=True)\n",
    "    img_scale_back = resize(img_scale_forward, img.shape, anti_aliasing=True)\n",
    "    \n",
    "    \n",
    "print(img.shape, img_scale_forward.shape, img_scale_back.shape)"
   ]
  },
  {
   "cell_type": "code",
   "execution_count": null,
   "id": "1e2ccb91",
   "metadata": {},
   "outputs": [],
   "source": []
  }
 ],
 "metadata": {
  "kernelspec": {
   "display_name": "Python [conda env:napari-src]",
   "language": "python",
   "name": "conda-env-napari-src-py"
  },
  "language_info": {
   "codemirror_mode": {
    "name": "ipython",
    "version": 3
   },
   "file_extension": ".py",
   "mimetype": "text/x-python",
   "name": "python",
   "nbconvert_exporter": "python",
   "pygments_lexer": "ipython3",
   "version": "3.9.7"
  }
 },
 "nbformat": 4,
 "nbformat_minor": 5
}
