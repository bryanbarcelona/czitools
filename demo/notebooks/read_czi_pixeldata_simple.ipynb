{
 "cells": [
  {
   "cell_type": "code",
   "execution_count": 1,
   "metadata": {},
   "outputs": [],
   "source": [
    "try:\n",
    "  import google.colab\n",
    "  IN_COLAB = True\n",
    "except:\n",
    "  IN_COLAB = False"
   ]
  },
  {
   "cell_type": "code",
   "execution_count": 2,
   "metadata": {},
   "outputs": [],
   "source": [
    "if IN_COLAB:\n",
    "  # Install dependencies\n",
    "  ! pip install --upgrade pip\n",
    "  ! pip install czitools"
   ]
  },
  {
   "cell_type": "code",
   "execution_count": 3,
   "metadata": {},
   "outputs": [],
   "source": [
    "# import the required libraries\n",
    "from czitools import metadata_tools as czimd\n",
    "from czitools import read_tools as czird\n",
    "from czitools import misc_tools\n",
    "from IPython.display import display, HTML\n",
    "from pathlib import Path\n",
    "import os\n",
    "import dask.array as da\n",
    "import ipywidgets as widgets\n",
    "\n",
    "if not IN_COLAB:\n",
    "    from czitools import napari_tools\n",
    "    import napari\n"
   ]
  },
  {
   "cell_type": "code",
   "execution_count": 4,
   "metadata": {
    "pycharm": {
     "name": "#%%\n"
    }
   },
   "outputs": [],
   "source": [
    "czifiles = [(\"CellDivision_T=10_Z=15_CH=2_DCV_small.czi\", r\"https://github.com/sebi06/czitools/raw/main/data/CellDivision_T%3D10_Z%3D15_CH%3D2_DCV_small.czi\"),\n",
    "            (\"CellDivision_T=3_Z=5_CH=2_X=240_Y=170.czi\", r\"https://github.com/sebi06/czitools/raw/main/data/CellDivision_T%3D3_Z%3D5_CH%3D2_X%3D240_Y%3D170.czi\"),\n",
    "            (\"WP96_4Pos_B4-10_DAPI.czi\", r\"https://github.com/sebi06/czitools/raw/main/data/WP96_4Pos_B4-10_DAPI.czi\"),\n",
    "            (\"w96_A1+A2.czi\", r\"https://github.com/sebi06/czitools/raw/main/data/w96_A1%2BA2.czi\")]"
   ]
  },
  {
   "cell_type": "code",
   "execution_count": 5,
   "metadata": {},
   "outputs": [
    {
     "data": {
      "application/vnd.jupyter.widget-view+json": {
       "model_id": "fa42988b807947789c6d3f8031d0fb72",
       "version_major": 2,
       "version_minor": 0
      },
      "text/plain": [
       "Select(description='CZI Files:', index=1, layout=Layout(width='max-content'), options=(('CellDivision_T=10_Z=1…"
      ]
     },
     "metadata": {},
     "output_type": "display_data"
    }
   ],
   "source": [
    "wd = widgets.Select(\n",
    "    options=czifiles,\n",
    "    value=r\"https://github.com/sebi06/czitools/raw/main/data/CellDivision_T%3D3_Z%3D5_CH%3D2_X%3D240_Y%3D170.czi\",\n",
    "    description='CZI Files:',\n",
    "    layout={'width': 'max-content'}\n",
    ")\n",
    "\n",
    "display(wd)"
   ]
  },
  {
   "cell_type": "code",
   "execution_count": 6,
   "metadata": {},
   "outputs": [
    {
     "name": "stdout",
     "output_type": "stream",
     "text": [
      "Selected CZI File https://github.com/sebi06/czitools/raw/main/data/CellDivision_T%3D3_Z%3D5_CH%3D2_X%3D240_Y%3D170.czi\n"
     ]
    }
   ],
   "source": [
    "selected_file = wd.value\n",
    "\n",
    "print(f\"Selected CZI File {selected_file}\")"
   ]
  },
  {
   "cell_type": "code",
   "execution_count": 7,
   "metadata": {},
   "outputs": [
    {
     "name": "stderr",
     "output_type": "stream",
     "text": [
      "2024-02-10 14:01:44,182 -  \u001b[0;30;42mINFO\u001b[0m - Reading AttachmentImages from CZI image data.\n",
      "2024-02-10 14:01:44,303 -  \u001b[38;5;214mWARNING\u001b[0m - Reading Attachments from CZI via a link is not supported.\n"
     ]
    },
    {
     "name": "stdout",
     "output_type": "stream",
     "text": [
      "czisource https://github.com/sebi06/czitools/raw/main/data/CellDivision_T%3D3_Z%3D5_CH%3D2_X%3D240_Y%3D170.czi\n",
      "names []\n"
     ]
    }
   ],
   "source": [
    "# get info about attachments only\n",
    "attachments = czimd.CziAttachments(selected_file)\n",
    "\n",
    "for k, v in attachments.__dict__.items():\n",
    "    print(k, v)"
   ]
  },
  {
   "cell_type": "code",
   "execution_count": 16,
   "metadata": {},
   "outputs": [
    {
     "name": "stderr",
     "output_type": "stream",
     "text": [
      "2024-02-10 14:10:01,825 -  \u001b[0;30;42mINFO\u001b[0m - FilePath is a valid link. Only pylibCZIrw functionality is available.\n",
      "2024-02-10 14:10:02,462 -  \u001b[0;30;42mINFO\u001b[0m - Reading Dimensions from CZI image data.\n",
      "2024-02-10 14:10:02,733 -  \u001b[0;30;42mINFO\u001b[0m - Reading BoundingBoxes from CZI image data.\n",
      "2024-02-10 14:10:02,734 -  \u001b[0;30;42mINFO\u001b[0m - FilePath is a valid link. Only pylibCZIrw functionality is available.\n",
      "2024-02-10 14:10:02,982 -  \u001b[0;30;42mINFO\u001b[0m - Reading Channel Information from CZI image data.\n",
      "2024-02-10 14:10:02,985 -  \u001b[0;30;42mINFO\u001b[0m - Reading Scaling from CZI image data.\n",
      "2024-02-10 14:10:02,987 -  \u001b[0;30;42mINFO\u001b[0m - Reading Objective Information from CZI image data.\n",
      "2024-02-10 14:10:02,989 -  \u001b[0;30;42mINFO\u001b[0m - Reading Detector Information from CZI image data.\n",
      "2024-02-10 14:10:02,994 -  \u001b[0;30;42mINFO\u001b[0m - Reading Microscope Information from CZI image data.\n",
      "2024-02-10 14:10:02,996 -  \u001b[0;30;42mINFO\u001b[0m - Reading SampleCarrier Information from CZI image data.\n",
      "2024-02-10 14:10:02,997 -  \u001b[0;30;42mINFO\u001b[0m - Reading Dimensions from CZI image data.\n",
      "2024-02-10 14:10:02,999 -  \u001b[0;30;42mINFO\u001b[0m - No Scene or Well information found. Try to read XY Stage Coordinates from subblocks.\n",
      "2024-02-10 14:10:03,002 -  \u001b[38;5;214mWARNING\u001b[0m - Reading PlaneTable from CZI via a link is not supported.\n",
      "2024-02-10 14:10:03,561 -  \u001b[0;30;42mINFO\u001b[0m - Reading Dimensions from CZI image data.\n",
      "2024-02-10 14:10:03,563 -  \u001b[0;30;42mINFO\u001b[0m - Reading additional Metedata from CZI image data.\n",
      "2024-02-10 14:10:03,563 -  \u001b[0;30;42mINFO\u001b[0m - No Layers information found.\n",
      "2024-02-10 14:10:03,564 -  \u001b[0;30;42mINFO\u001b[0m - Reading AttachmentImages from CZI image data.\n",
      "2024-02-10 14:10:03,565 -  \u001b[38;5;214mWARNING\u001b[0m - Reading Attachments from CZI via a link is not supported.\n"
     ]
    },
    {
     "name": "stdout",
     "output_type": "stream",
     "text": [
      "[WinError 123] Die Syntax für den Dateinamen, Verzeichnisnamen oder die Datenträgerbezeichnung ist falsch: 'e:\\\\Github\\\\czitools\\\\demo\\\\notebooks\\\\https:\\\\github.com\\\\sebi06\\\\czitools\\\\raw\\\\main\\\\data\\\\CellDivision_T%3D3_Z%3D5_CH%3D2_X%3D240_Y%3D170.czi'\n"
     ]
    },
    {
     "data": {
      "application/vnd.jupyter.widget-view+json": {
       "model_id": "4a58c1068eea426a89132678b427ec41",
       "version_major": 2,
       "version_minor": 0
      },
      "text/plain": [
       "Output(layout=Layout(height='300px'))"
      ]
     },
     "metadata": {},
     "output_type": "display_data"
    }
   ],
   "source": [
    "#%%capture\n",
    "# get the complete metadata at once as one big class\n",
    "mdata = czimd.CziMetadata(selected_file)\n",
    "\n",
    "# get the CZI metadata dictionary directly from filename\n",
    "mdict = czimd.create_md_dict_red(mdata, sort=False, remove_none=True)\n",
    "\n",
    "# convert metadata dictionary to a pandas dataframe\n",
    "mdframe = misc_tools.md2dataframe(mdict)\n",
    "\n",
    "# and display it nicely as a HTML inside the jupyter notebook\n",
    "#display(HTML(mdframe.to_html()))\n",
    "\n",
    "a1 = widgets.Output(layout={\"scroll\": \"auto\", \"height\": \"300px\"})\n",
    "with a1:\n",
    "    display(mdframe)\n",
    "display(a1)"
   ]
  },
  {
   "cell_type": "code",
   "execution_count": null,
   "metadata": {},
   "outputs": [],
   "source": [
    "# return array with dimension order STCZYX(A)\n",
    "array6d, mdata= czird.read_6darray(selected_file, use_dask=True, chunk_zyx=True)\n",
    "\n",
    "# show dask array structure\n",
    "if isinstance(array6d, da.Array):\n",
    "    print(array6d)\n",
    "else:\n",
    "    print(\"Shape:\", array6d.shape, \"dtype:\", array6d.dtype)\n"
   ]
  },
  {
   "cell_type": "code",
   "execution_count": null,
   "metadata": {},
   "outputs": [],
   "source": [
    "if not IN_COLAB:\n",
    "\n",
    "    # show array inside napari viewer\n",
    "    viewer = napari.Viewer()\n",
    "    layers = napari_tools.show(viewer, array6d, mdata,\n",
    "                               blending=\"additive\",\n",
    "                               contrast='from_czi',\n",
    "                               gamma=0.85,\n",
    "                               show_metadata=\"table\",\n",
    "                               name_sliders=True)"
   ]
  },
  {
   "cell_type": "code",
   "execution_count": null,
   "metadata": {},
   "outputs": [],
   "source": [
    "napari.utils.nbscreenshot(viewer)"
   ]
  }
 ],
 "metadata": {
  "kernelspec": {
   "display_name": "zen",
   "language": "python",
   "name": "python3"
  },
  "language_info": {
   "codemirror_mode": {
    "name": "ipython",
    "version": 3
   },
   "file_extension": ".py",
   "mimetype": "text/x-python",
   "name": "python",
   "nbconvert_exporter": "python",
   "pygments_lexer": "ipython3",
   "version": "3.10.13"
  }
 },
 "nbformat": 4,
 "nbformat_minor": 4
}
