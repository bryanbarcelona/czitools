{
 "cells": [
  {
   "cell_type": "markdown",
   "id": "b0fae27f",
   "metadata": {},
   "source": [
    "## Writing ome.zarr data\n",
    "\n",
    "Write an example image, represented in memory by a numpy array, to an ome.zarr file on disc."
   ]
  },
  {
   "cell_type": "code",
   "execution_count": null,
   "id": "b236d2d9",
   "metadata": {},
   "outputs": [],
   "source": [
    "# the ome_zarr imports we require\n",
    "from czitools import pylibczirw_metadata as czimd\n",
    "from czitools import pylibczirw_tools as czird\n",
    "from czitools import misc, napari_tools\n",
    "import napari\n",
    "from pathlib import Path\n",
    "import os\n",
    "import ome_zarr.reader\n",
    "import ome_zarr.scale\n",
    "import ome_zarr.writer\n",
    "from ome_zarr.io import parse_url\n",
    "\n",
    "# additional imports\n",
    "import zarr\n",
    "zarr.__version__\n",
    "#from ipytree import Tree, Node"
   ]
  },
  {
   "cell_type": "code",
   "execution_count": null,
   "id": "2ab02d0c",
   "metadata": {},
   "outputs": [],
   "source": [
    "defaultdir = os.path.join(Path(os.getcwd()).resolve().parents[1], \"data\")\n",
    "filepath = os.path.join(defaultdir, \"w96_A1+A2.czi\")\n",
    "zarr_path = filepath[:-4] + \".ome.zarr\""
   ]
  },
  {
   "cell_type": "code",
   "execution_count": null,
   "id": "68d184ed",
   "metadata": {},
   "outputs": [],
   "source": [
    "# get the metadata at once as one big class\n",
    "mdata = czimd.CziMetadata(filepath)\n",
    "print(\"Number of Scenes: \", mdata.image.SizeS)\n",
    "scene_id = 0"
   ]
  },
  {
   "cell_type": "code",
   "execution_count": null,
   "id": "1e32b670",
   "metadata": {},
   "outputs": [],
   "source": [
    "array5d, mdata, dim_string6d,  = czird.read_5darray(filepath,\n",
    "                                                    scene=scene_id,\n",
    "                                                    output_order=\"TCZYX\",\n",
    "                                                    output_dask=False,\n",
    "                                                    chunks_auto=False,\n",
    "                                                    remove_Adim=True)\n",
    "\n",
    "array5d.shape"
   ]
  },
  {
   "cell_type": "code",
   "execution_count": null,
   "id": "c670b17c",
   "metadata": {},
   "outputs": [],
   "source": [
    "ngff_version = ome_zarr.format.CurrentFormat().version\n",
    "print(\"Using ngff format version\", ngff_version)\n",
    "\n",
    "# write the image data\n",
    "store = parse_url(zarr_path, mode=\"w\").store\n",
    "root = zarr.group(store=store)\n",
    "root.info"
   ]
  },
  {
   "cell_type": "code",
   "execution_count": null,
   "id": "4ba030e3-2e11-4210-a136-5334e713530d",
   "metadata": {},
   "outputs": [],
   "source": [
    "print(root.tree())"
   ]
  },
  {
   "cell_type": "code",
   "execution_count": null,
   "id": "24a93ccf-5cd4-4435-867b-190093bba3cc",
   "metadata": {},
   "outputs": [],
   "source": [
    "# write the OME-ZARR file\n",
    "ome_zarr.writer.write_image(image=array5d, group=root, axes=\"tczyx\", storage_options=dict(chunks=array5d.shape))"
   ]
  },
  {
   "cell_type": "code",
   "execution_count": null,
   "id": "265dded9",
   "metadata": {},
   "outputs": [],
   "source": [
    "# convince yourself that the data is there\n",
    "import os\n",
    "print(os.listdir(zarr_path))"
   ]
  },
  {
   "cell_type": "code",
   "execution_count": null,
   "id": "66bfa9bf",
   "metadata": {},
   "outputs": [],
   "source": [
    "loc = ome_zarr.io.parse_url(zarr_path, mode=\"r\")  # open the file in read mode\n",
    "# this will return a reader object, which enables access to the individual resolution levels \n",
    "zarr_reader = ome_zarr.reader.Reader(loc).zarr"
   ]
  },
  {
   "cell_type": "code",
   "execution_count": null,
   "id": "c39b61b5",
   "metadata": {},
   "outputs": [],
   "source": [
    "# TODO is there a way to list the available resolution arrays?\n",
    "# the 'load' functionality returns the specified resolution data as a dask array\n",
    "res0 = zarr_reader.load(\"0\")"
   ]
  },
  {
   "cell_type": "code",
   "execution_count": null,
   "id": "c664f034",
   "metadata": {},
   "outputs": [],
   "source": [
    "# the dask array can be used for lazy computation, or converted to numpy via .compute()\n",
    "# for more information on dask arrays check out https://docs.dask.org/en/latest/array.html\n",
    "full_image_npy = res0.compute()\n",
    "print(full_image_npy.shape)"
   ]
  },
  {
   "cell_type": "code",
   "execution_count": null,
   "id": "ddfb0a12",
   "metadata": {},
   "outputs": [],
   "source": [
    "# data slices can be used to select parts of the image.\n",
    "# these will also be returned as dask arrays\n",
    "sub_image = res0[:, :, :, :128, :128]\n",
    "sub_image_npy = sub_image.compute()\n",
    "print(sub_image_npy.shape)"
   ]
  },
  {
   "cell_type": "markdown",
   "id": "77e570a6",
   "metadata": {},
   "source": [
    "## Using napari with ome.zarr\n",
    "\n",
    "Use the napari plugin installed with `napari-ome-zarr` to open ome.zarr files directly."
   ]
  },
  {
   "cell_type": "code",
   "execution_count": null,
   "id": "3ad8b8bd",
   "metadata": {},
   "outputs": [],
   "source": [
    "# this is how we can open the file we just wrote in napari\n",
    "import napari\n",
    "viewer = napari.Viewer()\n",
    "viewer.open(zarr_path)"
   ]
  },
  {
   "cell_type": "code",
   "execution_count": null,
   "id": "efe7f37b",
   "metadata": {},
   "outputs": [],
   "source": []
  }
 ],
 "metadata": {
  "kernelspec": {
   "display_name": "Python 3.9.13 ('ia39')",
   "language": "python",
   "name": "python3"
  },
  "language_info": {
   "codemirror_mode": {
    "name": "ipython",
    "version": 3
   },
   "file_extension": ".py",
   "mimetype": "text/x-python",
   "name": "python",
   "nbconvert_exporter": "python",
   "pygments_lexer": "ipython3",
   "version": "3.9.13"
  },
  "vscode": {
   "interpreter": {
    "hash": "860439aa1091ca9628697fade70363ec3e96a6399b1dfa15ee9e896d1606a397"
   }
  }
 },
 "nbformat": 4,
 "nbformat_minor": 5
}
