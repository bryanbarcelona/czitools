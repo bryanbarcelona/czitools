{
  "cells": [
    {
      "attachments": {},
      "cell_type": "markdown",
      "id": "b0fae27f",
      "metadata": {},
      "source": [
        "## Writing ome.zarr data\n",
        "Write an example image, represented in memory by a numpy array, to an ome.zarr file on disc."
      ]
    },
    {
      "cell_type": "code",
      "execution_count": 1,
      "id": "9873c5dc",
      "metadata": {},
      "outputs": [],
      "source": [
        "try:\n",
        "  import google.colab\n",
        "  IN_COLAB = True\n",
        "except:\n",
        "  IN_COLAB = False"
      ]
    },
    {
      "cell_type": "code",
      "execution_count": 2,
      "id": "67c73f91",
      "metadata": {},
      "outputs": [],
      "source": [
        "if IN_COLAB:\n",
        "  # Install dependencies\n",
        "  ! pip install --upgrade pip\n",
        "  ! pip install czitools\n",
        "  ! pip install ipyfilechooser"
      ]
    },
    {
      "cell_type": "code",
      "execution_count": 3,
      "id": "b236d2d9",
      "metadata": {},
      "outputs": [
        {
          "data": {
            "text/plain": [
              "'2.16.0'"
            ]
          },
          "execution_count": 3,
          "metadata": {},
          "output_type": "execute_result"
        }
      ],
      "source": [
        "# the ome_zarr imports we require\n",
        "from czitools import metadata_tools as czimd\n",
        "from czitools import read_tools as czird\n",
        "import napari\n",
        "from pathlib import Path\n",
        "import ome_zarr.reader\n",
        "import ome_zarr.scale\n",
        "import ome_zarr.writer\n",
        "from ome_zarr.io import parse_url\n",
        "import shutil\n",
        "import zarr\n",
        "import requests\n",
        "import os\n",
        "\n",
        "if not IN_COLAB:\n",
        "    import napari\n",
        "\n",
        "zarr.__version__"
      ]
    },
    {
      "cell_type": "code",
      "execution_count": 4,
      "id": "5b96a0fa",
      "metadata": {},
      "outputs": [],
      "source": [
        "# Folder containing the input data\n",
        "if IN_COLAB:\n",
        "    INPUT_FOLDER = 'data/'\n",
        "if not IN_COLAB:\n",
        "    INPUT_FOLDER = '../../data/'\n",
        "\n",
        "# Path to the data on GitHub\n",
        "GITHUB_IMAGES_PATH = \"https://raw.githubusercontent.com/sebi06/czitools/main/data.zip\"\n",
        "\n",
        "# Download data\n",
        "if not (os.path.isdir(INPUT_FOLDER)):\n",
        "    compressed_data = './data.zip'\n",
        "    if not os.path.isfile(compressed_data):\n",
        "        import io\n",
        "        response = requests.get(GITHUB_IMAGES_PATH, stream=True)\n",
        "        compressed_data = io.BytesIO(response.content)\n",
        "\n",
        "    import zipfile\n",
        "    with zipfile.ZipFile(compressed_data, 'r') as zip_accessor:\n",
        "        zip_accessor.extractall('./')"
      ]
    },
    {
      "cell_type": "code",
      "execution_count": 5,
      "id": "2ab02d0c",
      "metadata": {},
      "outputs": [
        {
          "name": "stdout",
          "output_type": "stream",
          "text": [
            "/datadisk1/Github/czitools/data/CellDivision_T=3_Z=5_CH=2_X=240_Y=170.ome.zarr\n"
          ]
        }
      ],
      "source": [
        "if IN_COLAB:\n",
        "    filepath = os.path.join(os.getcwd(), \"data/CellDivision_T=3_Z=5_CH=2_X=240_Y=170.czi\")\n",
        "    zarr_path = Path(filepath.name[:-4] + \".ome.zarr\")\n",
        "\n",
        "if not IN_COLAB:\n",
        "    defaultdir = os.path.join(Path(os.getcwd()).resolve().parents[1], \"data\")\n",
        "    filepath = os.path.join(defaultdir, \"CellDivision_T=3_Z=5_CH=2_X=240_Y=170.czi\")\n",
        "    zarr_path = defaultdir / Path(filepath[:-4] + \".ome.zarr\")\n",
        "\n",
        "print(zarr_path)\n",
        "\n",
        "# check if path exists\n",
        "remove = True\n",
        "if zarr_path.exists() and remove:\n",
        "    shutil.rmtree(zarr_path, ignore_errors=False, onerror=None)"
      ]
    },
    {
      "cell_type": "code",
      "execution_count": 6,
      "id": "68d184ed",
      "metadata": {},
      "outputs": [
        {
          "name": "stdout",
          "output_type": "stream",
          "text": [
            "Number of Scenes:  None\n"
          ]
        }
      ],
      "source": [
        "# get the metadata at once as one big class\n",
        "mdata = czimd.CziMetadata(filepath)\n",
        "print(\"Number of Scenes: \", mdata.image.SizeS)\n",
        "scene_id = 0"
      ]
    },
    {
      "cell_type": "code",
      "execution_count": 7,
      "id": "1e32b670",
      "metadata": {},
      "outputs": [
        {
          "data": {
            "application/vnd.jupyter.widget-view+json": {
              "model_id": "498e491aa7c74b899a35b2586072e952",
              "version_major": 2,
              "version_minor": 0
            },
            "text/plain": [
              "  0%|          | 0/30 [00:00<?, ?it/s]"
            ]
          },
          "metadata": {},
          "output_type": "display_data"
        },
        {
          "data": {
            "text/plain": [
              "(3, 2, 5, 170, 240)"
            ]
          },
          "execution_count": 7,
          "metadata": {},
          "output_type": "execute_result"
        }
      ],
      "source": [
        "array, mdata, dim_string6d,  = czird.read_6darray(filepath,\n",
        "                                                    output_order=\"STCZYX\")\n",
        "\n",
        "array = array[0, ...]\n",
        "array.shape"
      ]
    },
    {
      "cell_type": "code",
      "execution_count": 8,
      "id": "c670b17c",
      "metadata": {},
      "outputs": [
        {
          "name": "stdout",
          "output_type": "stream",
          "text": [
            "Using ngff format version 0.4\n",
            "/\n"
          ]
        }
      ],
      "source": [
        "ngff_version = ome_zarr.format.CurrentFormat().version\n",
        "print(\"Using ngff format version\", ngff_version)\n",
        "\n",
        "# write the image data\n",
        "store = parse_url(zarr_path, mode=\"w\").store\n",
        "root = zarr.group(store=store)\n",
        "root.info\n",
        "print(root.tree())"
      ]
    },
    {
      "cell_type": "code",
      "execution_count": 9,
      "id": "24a93ccf-5cd4-4435-867b-190093bba3cc",
      "metadata": {},
      "outputs": [
        {
          "name": "stdout",
          "output_type": "stream",
          "text": [
            "/datadisk1/Github/czitools/data/CellDivision_T=3_Z=5_CH=2_X=240_Y=170.ome.zarr/.zattrs\n",
            "/datadisk1/Github/czitools/data/CellDivision_T=3_Z=5_CH=2_X=240_Y=170.ome.zarr/.zgroup\n",
            "/datadisk1/Github/czitools/data/CellDivision_T=3_Z=5_CH=2_X=240_Y=170.ome.zarr/0\n",
            "/datadisk1/Github/czitools/data/CellDivision_T=3_Z=5_CH=2_X=240_Y=170.ome.zarr/1\n",
            "/datadisk1/Github/czitools/data/CellDivision_T=3_Z=5_CH=2_X=240_Y=170.ome.zarr/2\n",
            "/datadisk1/Github/czitools/data/CellDivision_T=3_Z=5_CH=2_X=240_Y=170.ome.zarr/3\n",
            "/datadisk1/Github/czitools/data/CellDivision_T=3_Z=5_CH=2_X=240_Y=170.ome.zarr/4\n"
          ]
        }
      ],
      "source": [
        "# write the OME-ZARR file\n",
        "ome_zarr.writer.write_image(image=array, group=root, axes=\"tczyx\", storage_options=dict(chunks=array.shape))\n",
        "\n",
        "# convince yourself that the data is there\n",
        "for child in zarr_path.iterdir():\n",
        "    print(child)"
      ]
    },
    {
      "cell_type": "code",
      "execution_count": 10,
      "id": "66bfa9bf",
      "metadata": {},
      "outputs": [],
      "source": [
        "loc = ome_zarr.io.parse_url(zarr_path, mode=\"r\")  # open the file in read mode\n",
        "# this will return a reader object, which enables access to the individual resolution levels \n",
        "zarr_reader = ome_zarr.reader.Reader(loc).zarr"
      ]
    },
    {
      "cell_type": "code",
      "execution_count": 11,
      "id": "c39b61b5",
      "metadata": {},
      "outputs": [],
      "source": [
        "# TODO is there a way to list the available resolution arrays?\n",
        "# the 'load' functionality returns the specified resolution data as a dask array\n",
        "res0 = zarr_reader.load(\"0\")"
      ]
    },
    {
      "cell_type": "code",
      "execution_count": 12,
      "id": "c664f034",
      "metadata": {},
      "outputs": [
        {
          "name": "stdout",
          "output_type": "stream",
          "text": [
            "(3, 2, 5, 170, 240)\n"
          ]
        }
      ],
      "source": [
        "# the dask array can be used for lazy computation, or converted to numpy via .compute()\n",
        "# for more information on dask arrays check out https://docs.dask.org/en/latest/array.html\n",
        "full_image_npy = res0.compute()\n",
        "print(full_image_npy.shape)"
      ]
    },
    {
      "cell_type": "code",
      "execution_count": 13,
      "id": "ddfb0a12",
      "metadata": {},
      "outputs": [
        {
          "name": "stdout",
          "output_type": "stream",
          "text": [
            "(3, 2, 5, 128, 128)\n"
          ]
        }
      ],
      "source": [
        "# data slices can be used to select parts of the image.\n",
        "# these will also be returned as dask arrays\n",
        "sub_image = res0[:, :, :, :128, :128]\n",
        "sub_image_npy = sub_image.compute()\n",
        "print(sub_image_npy.shape)"
      ]
    },
    {
      "attachments": {},
      "cell_type": "markdown",
      "id": "77e570a6",
      "metadata": {},
      "source": [
        "## Using napari with ome.zarr\n",
        "\n",
        "Use the napari plugin installed with `napari-ome-zarr` to open ome.zarr files directly."
      ]
    },
    {
      "cell_type": "code",
      "execution_count": null,
      "id": "3ad8b8bd",
      "metadata": {},
      "outputs": [],
      "source": [
        "# this is how we can open the file we just write in napari\n",
        "viewer = napari.Viewer()\n",
        "viewer.open(zarr_path)"
      ]
    },
    {
      "cell_type": "code",
      "execution_count": null,
      "id": "300fbbb3",
      "metadata": {},
      "outputs": [],
      "source": [
        "napari.utils.nbscreenshot(viewer)"
      ]
    }
  ],
  "metadata": {
    "kernelspec": {
      "display_name": "cziread39",
      "language": "python",
      "name": "python3"
    },
    "language_info": {
      "codemirror_mode": {
        "name": "ipython",
        "version": 3
      },
      "file_extension": ".py",
      "mimetype": "text/x-python",
      "name": "python",
      "nbconvert_exporter": "python",
      "pygments_lexer": "ipython3",
      "version": "3.9.16"
    }
  },
  "nbformat": 4,
  "nbformat_minor": 5
}
