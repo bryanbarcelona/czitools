{
 "cells": [
  {
   "attachments": {},
   "cell_type": "markdown",
   "id": "b0fae27f",
   "metadata": {
    "editable": true,
    "slideshow": {
     "slide_type": "slide"
    },
    "tags": []
   },
   "source": [
    "## Writing ome.zarr data from a CZI image file\n",
    "\n",
    "* Read the CZI image and its metadata into an 6D array\n",
    "* reduce dimensionality to a 5D array\n",
    "* write array into an OME-ZARR file\n",
    "* open the OME-ZARR in Napari"
   ]
  },
  {
   "cell_type": "code",
   "execution_count": null,
   "id": "9873c5dc",
   "metadata": {
    "editable": true,
    "slideshow": {
     "slide_type": "slide"
    },
    "tags": []
   },
   "outputs": [],
   "source": [
    "# check if the notebook runs in Google Colab\n",
    "try:\n",
    "  import google.colab\n",
    "  IN_COLAB = True\n",
    "except:\n",
    "  IN_COLAB = False"
   ]
  },
  {
   "cell_type": "code",
   "execution_count": null,
   "id": "67c73f91",
   "metadata": {
    "editable": true,
    "slideshow": {
     "slide_type": ""
    },
    "tags": []
   },
   "outputs": [],
   "source": [
    "if IN_COLAB:\n",
    "  # Install dependencies\n",
    "  ! pip install --upgrade pip\n",
    "  ! pip install czitools"
   ]
  },
  {
   "cell_type": "code",
   "execution_count": null,
   "id": "b236d2d9",
   "metadata": {},
   "outputs": [],
   "source": [
    "from czitools.read_tools import read_tools\n",
    "from czitools.write_tools import write_tools\n",
    "from czitools.metadata_tools import czi_metadata as czimd\n",
    "from pathlib import Path\n",
    "import ome_zarr.reader\n",
    "import ome_zarr.scale\n",
    "import ome_zarr.writer\n",
    "import ome_zarr.format\n",
    "from ome_zarr.io import parse_url\n",
    "import shutil\n",
    "import zarr\n",
    "import requests\n",
    "import os\n",
    "\n",
    "if not IN_COLAB:\n",
    "    import napari\n",
    "\n",
    "zarr.__version__"
   ]
  },
  {
   "cell_type": "code",
   "execution_count": null,
   "id": "5b96a0fa",
   "metadata": {},
   "outputs": [],
   "source": [
    "# try to find the folder with data and download otherwise from GitHub.\n",
    "\n",
    "# Folder containing the input data\n",
    "if IN_COLAB:\n",
    "    INPUT_FOLDER = 'data/'\n",
    "if not IN_COLAB:\n",
    "    INPUT_FOLDER = '../../data/'\n",
    "\n",
    "# Path to the data on GitHub\n",
    "GITHUB_IMAGES_PATH = \"https://raw.githubusercontent.com/sebi06/czitools/main/data.zip\"\n",
    "\n",
    "# Download data\n",
    "if not (os.path.isdir(INPUT_FOLDER)):\n",
    "    compressed_data = './data.zip'\n",
    "    if not os.path.isfile(compressed_data):\n",
    "        import io\n",
    "        response = requests.get(GITHUB_IMAGES_PATH, stream=True)\n",
    "        compressed_data = io.BytesIO(response.content)\n",
    "\n",
    "    import zipfile\n",
    "    with zipfile.ZipFile(compressed_data, 'r') as zip_accessor:\n",
    "        zip_accessor.extractall('./')"
   ]
  },
  {
   "cell_type": "code",
   "execution_count": null,
   "id": "2ab02d0c",
   "metadata": {},
   "outputs": [],
   "source": [
    "if IN_COLAB:\n",
    "    filepath = os.path.join(os.getcwd(), \"data/CellDivision_T3_Z5_CH2_X240_Y170.czi\")\n",
    "    zarr_path = Path(filepath[:-4] + \".ome.zarr\")\n",
    "\n",
    "if not IN_COLAB:\n",
    "    defaultdir = os.path.join(Path(os.getcwd()).resolve().parents[1], \"data\")\n",
    "    filepath = os.path.join(defaultdir, \"CellDivision_T3_Z5_CH2_X240_Y170.czi\")\n",
    "    zarr_path = defaultdir / Path(filepath[:-4] + \".ome.zarr\")\n",
    "\n",
    "print(zarr_path)\n",
    "\n",
    "# check if path exists\n",
    "remove = True\n",
    "if zarr_path.exists() and remove:\n",
    "    shutil.rmtree(zarr_path, ignore_errors=False, onerror=None)"
   ]
  },
  {
   "cell_type": "code",
   "execution_count": null,
   "id": "68d184ed",
   "metadata": {},
   "outputs": [],
   "source": [
    "# get the metadata at once as one big class\n",
    "mdata = czimd.CziMetadata(filepath)\n",
    "print(\"Number of Scenes: \", mdata.image.SizeS)\n",
    "scene_id = 0"
   ]
  },
  {
   "cell_type": "code",
   "execution_count": null,
   "id": "1e32b670",
   "metadata": {},
   "outputs": [],
   "source": [
    "array, mdata = read_tools.read_6darray(filepath)\n",
    "\n",
    "array = array[scene_id, ...]\n",
    "print(f\"Array Shape: {array.shape}\")"
   ]
  },
  {
   "cell_type": "code",
   "execution_count": null,
   "id": "c670b17c",
   "metadata": {},
   "outputs": [],
   "source": [
    "ngff_version = ome_zarr.format.CurrentFormat().version\n",
    "print(f\"Using ngff format version: {ngff_version}\")\n",
    "\n",
    "# write the image data\n",
    "store = parse_url(zarr_path, mode=\"w\").store\n",
    "root = zarr.group(store=store)\n",
    "root.info\n",
    "print(root.tree())"
   ]
  },
  {
   "cell_type": "code",
   "execution_count": null,
   "id": "24a93ccf-5cd4-4435-867b-190093bba3cc",
   "metadata": {},
   "outputs": [],
   "source": [
    "omezarr_dimorder = \"tczyx\"\n",
    "print(f\"OME-ZARR Dimension Order: {omezarr_dimorder}\")\n",
    "\n",
    "# write the OME-ZARR file - make sure to use the correct order for the dimensions\n",
    "ome_zarr.writer.write_image(\n",
    "    image=array,\n",
    "    group=root,\n",
    "    axes=omezarr_dimorder,\n",
    "    storage_options=dict(chunks=array.shape),\n",
    ")\n",
    "\n",
    "# convince yourself that the data is there\n",
    "for child in zarr_path.iterdir():\n",
    "    print(child)"
   ]
  },
  {
   "cell_type": "code",
   "execution_count": null,
   "id": "66bfa9bf",
   "metadata": {},
   "outputs": [],
   "source": [
    "loc = ome_zarr.io.parse_url(zarr_path, mode=\"r\")  # open the file in read mode\n",
    "# this will return a reader object, which enables access to the individual resolution levels \n",
    "zarr_reader = ome_zarr.reader.Reader(loc).zarr"
   ]
  },
  {
   "cell_type": "code",
   "execution_count": null,
   "id": "c39b61b5",
   "metadata": {},
   "outputs": [],
   "source": [
    "# the 'load' functionality returns the specified resolution data as a dask array\n",
    "res0 = zarr_reader.load(\"0\")"
   ]
  },
  {
   "cell_type": "code",
   "execution_count": null,
   "id": "c664f034",
   "metadata": {},
   "outputs": [],
   "source": [
    "# the dask array can be used for lazy computation, or converted to numpy via .compute()\n",
    "# for more information on dask arrays check out https://docs.dask.org/en/latest/array.html\n",
    "full_image_npy = res0.compute()\n",
    "print(full_image_npy.shape)"
   ]
  },
  {
   "cell_type": "code",
   "execution_count": null,
   "id": "ddfb0a12",
   "metadata": {},
   "outputs": [],
   "source": [
    "# data slices can be used to select parts of the image.\n",
    "# these will also be returned as dask arrays\n",
    "sub_image = res0[:, :, :, :128, :128]\n",
    "sub_image_npy = sub_image.compute()\n",
    "print(sub_image_npy.shape)"
   ]
  },
  {
   "attachments": {},
   "cell_type": "markdown",
   "id": "77e570a6",
   "metadata": {},
   "source": [
    "## Using napari with ome.zarr\n",
    "\n",
    "Use the napari plugin installed with `napari-ome-zarr` to open ome.zarr files directly."
   ]
  },
  {
   "cell_type": "code",
   "execution_count": null,
   "id": "3ad8b8bd",
   "metadata": {},
   "outputs": [],
   "source": [
    "if not IN_COLAB:\n",
    "    # this is how we can open the file we just write in napari\n",
    "    viewer = napari.Viewer()\n",
    "    viewer.open(zarr_path)"
   ]
  },
  {
   "cell_type": "code",
   "execution_count": null,
   "id": "300fbbb3",
   "metadata": {},
   "outputs": [],
   "source": [
    "if not IN_COLAB:\n",
    "    napari.utils.nbscreenshot(viewer)"
   ]
  },
  {
   "cell_type": "markdown",
   "id": "4a2601a5",
   "metadata": {},
   "source": [
    "## Simply writing OME-ZARR by using a helper function\n",
    "\n",
    "The idea is to wrap the code from above into a function that simplifies the process\n",
    "\n",
    "- read array from CZI image file\n",
    "- use function do directly write OME-ZARR\n",
    "- open OME-ZARR in Napari"
   ]
  },
  {
   "cell_type": "code",
   "execution_count": null,
   "id": "ab13bd61",
   "metadata": {},
   "outputs": [],
   "source": [
    "if not IN_COLAB:\n",
    "    # write OME-ZARR using utility function\n",
    "    zarr_path = write_tools.write_omezarr(\n",
    "        array, zarr_path=zarr_path, axes=omezarr_dimorder, overwrite=True\n",
    "    )"
   ]
  },
  {
   "cell_type": "code",
   "execution_count": null,
   "id": "6f95c69f",
   "metadata": {},
   "outputs": [],
   "source": [
    "if not IN_COLAB:\n",
    "    # this is how we can open the file we just write in napari\n",
    "    viewer = napari.Viewer()\n",
    "    viewer.open(zarr_path)"
   ]
  },
  {
   "cell_type": "code",
   "execution_count": null,
   "id": "04d57e23",
   "metadata": {},
   "outputs": [],
   "source": [
    "if not IN_COLAB:\n",
    "    napari.utils.nbscreenshot(viewer)"
   ]
  }
 ],
 "metadata": {
  "kernelspec": {
   "display_name": "Python 3 (ipykernel)",
   "language": "python",
   "name": "python3"
  },
  "language_info": {
   "codemirror_mode": {
    "name": "ipython",
    "version": 3
   },
   "file_extension": ".py",
   "mimetype": "text/x-python",
   "name": "python",
   "nbconvert_exporter": "python",
   "pygments_lexer": "ipython3",
   "version": "3.11.8"
  }
 },
 "nbformat": 4,
 "nbformat_minor": 5
}
