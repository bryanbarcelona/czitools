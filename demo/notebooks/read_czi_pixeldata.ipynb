{
  "cells": [
    {
      "cell_type": "code",
      "execution_count": null,
      "metadata": {},
      "outputs": [],
      "source": [
        "try:\n",
        "  import google.colab\n",
        "  IN_COLAB = True\n",
        "except:\n",
        "  IN_COLAB = False"
      ]
    },
    {
      "cell_type": "code",
      "execution_count": null,
      "metadata": {},
      "outputs": [],
      "source": [
        "if IN_COLAB:\n",
        "  # Install dependencies\n",
        "  ! pip install --upgrade pip\n",
        "  ! pip install czitools\n",
        "  ! pip install ipyfilechooser"
      ]
    },
    {
      "cell_type": "code",
      "execution_count": null,
      "metadata": {},
      "outputs": [],
      "source": [
        "# import the required libraries\n",
        "from czitools.metadata_tools import czi_metadata as czimd\n",
        "from czitools.read_tools import read_tools as czird\n",
        "from czitools.utils import misc\n",
        "from ipyfilechooser import FileChooser\n",
        "from IPython.display import display, HTML\n",
        "from pathlib import Path\n",
        "import os\n",
        "import dask.array as da\n",
        "import requests\n",
        "import glob\n",
        "import ipywidgets as widgets\n",
        "\n",
        "if not IN_COLAB:\n",
        "    from czitools.napari_tools import napari_tools\n",
        "    import napari\n"
      ]
    },
    {
      "cell_type": "code",
      "execution_count": null,
      "metadata": {},
      "outputs": [],
      "source": [
        "# try to find the folder with data and download otherwise from GitHub.\n",
        "\n",
        "# Folder containing the input data\n",
        "if IN_COLAB:\n",
        "    INPUT_FOLDER = 'data/'\n",
        "if not IN_COLAB:\n",
        "    INPUT_FOLDER = '../../data/'\n",
        "\n",
        "# Path to the data on GitHub\n",
        "GITHUB_IMAGES_PATH = \"https://raw.githubusercontent.com/sebi06/czitools/main/data.zip\"\n",
        "\n",
        "# Download data\n",
        "if not (os.path.isdir(INPUT_FOLDER)):\n",
        "    compressed_data = './data.zip'\n",
        "    if not os.path.isfile(compressed_data):\n",
        "        import io\n",
        "        response = requests.get(GITHUB_IMAGES_PATH, stream=True)\n",
        "        compressed_data = io.BytesIO(response.content)\n",
        "\n",
        "    import zipfile\n",
        "    with zipfile.ZipFile(compressed_data, 'r') as zip_accessor:\n",
        "        zip_accessor.extractall('./')"
      ]
    },
    {
      "cell_type": "code",
      "execution_count": null,
      "metadata": {
        "pycharm": {
          "name": "#%%\n"
        }
      },
      "outputs": [],
      "source": [
        "if not IN_COLAB:\n",
        "    # choose local file\n",
        "    fc = FileChooser()\n",
        "    fc.default_path = INPUT_FOLDER\n",
        "    fc.filter_pattern = '*.czi'\n",
        "    display(fc)\n",
        "\n",
        "elif IN_COLAB:\n",
        "    # list files inside the folder on gdrive\n",
        "    czifiles = glob.glob(os.path.join(INPUT_FOLDER, \"*.czi\"))\n",
        "    wd = widgets.Select(\n",
        "        options=czifiles,\n",
        "        description='CZI Files:',\n",
        "        layout={'width': 'max-content'}\n",
        "    )\n",
        "    display(wd)"
      ]
    },
    {
      "cell_type": "code",
      "execution_count": null,
      "metadata": {
        "pycharm": {
          "name": "#%%\n"
        }
      },
      "outputs": [],
      "source": [
        "if not IN_COLAB:\n",
        "    filepath = fc.selected\n",
        "elif IN_COLAB:\n",
        "    filepath = wd.value\n",
        "\n",
        "print(f\"Selected File: {filepath}\")"
      ]
    },
    {
      "cell_type": "code",
      "execution_count": null,
      "metadata": {},
      "outputs": [],
      "source": [
        "# get the complete metadata at once as one big class\n",
        "mdata = czimd.CziMetadata(filepath)\n",
        "\n",
        "# get the CZI metadata dictionary directly from filename\n",
        "mdict = czimd.create_md_dict_red(mdata, sort=False, remove_none=True)\n",
        "\n",
        "# convert metadata dictionary to a pandas dataframe\n",
        "mdframe = misc.md2dataframe(mdict)\n",
        "\n",
        "# create a ipywdiget to show the dataframe with the metadata\n",
        "wd = widgets.Output(layout={\"scrollY\": \"auto\", \"height\": \"300px\"})\n",
        "\n",
        "with wd:\n",
        "    display(HTML(mdframe.to_html()))\n",
        "display(widgets.VBox(children=[wd]))"
      ]
    },
    {
      "cell_type": "code",
      "execution_count": null,
      "metadata": {},
      "outputs": [],
      "source": [
        "# return array with dimension order STCZYX(A)\n",
        "array6d, mdata= czird.read_6darray(filepath, use_dask=False, chunk_zyx=False)\n",
        "\n",
        "# show dask array structure\n",
        "if isinstance(array6d, da.Array):\n",
        "    print(array6d)\n",
        "else:\n",
        "    print(\"Shape:\", array6d.shape, \"dtype:\", array6d.dtype)\n"
      ]
    },
    {
      "cell_type": "code",
      "execution_count": null,
      "metadata": {},
      "outputs": [],
      "source": [
        "if not IN_COLAB:\n",
        "\n",
        "    # show array inside napari viewer\n",
        "    viewer = napari.Viewer()\n",
        "    layers = napari_tools.show(viewer, array6d, mdata,\n",
        "                               blending=\"additive\",\n",
        "                               contrast='from_czi',\n",
        "                               gamma=0.85,\n",
        "                               show_metadata=\"tree\",\n",
        "                               name_sliders=True)"
      ]
    },
    {
      "cell_type": "code",
      "execution_count": null,
      "metadata": {},
      "outputs": [],
      "source": [
        "napari.utils.nbscreenshot(viewer)"
      ]
    }
  ],
  "metadata": {
    "kernelspec": {
      "display_name": "ia39",
      "language": "python",
      "name": "python3"
    },
    "language_info": {
      "codemirror_mode": {
        "name": "ipython",
        "version": 3
      },
      "file_extension": ".py",
      "mimetype": "text/x-python",
      "name": "python",
      "nbconvert_exporter": "python",
      "pygments_lexer": "ipython3",
      "version": "3.11.7"
    },
    "vscode": {
      "interpreter": {
        "hash": "860439aa1091ca9628697fade70363ec3e96a6399b1dfa15ee9e896d1606a397"
      }
    }
  },
  "nbformat": 4,
  "nbformat_minor": 4
}
