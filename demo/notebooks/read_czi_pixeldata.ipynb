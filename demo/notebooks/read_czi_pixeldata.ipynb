{
 "cells": [
  {
   "cell_type": "code",
   "execution_count": null,
   "metadata": {},
   "outputs": [],
   "source": [
    "# import the required libraries\n",
    "from czitools import pylibczirw_metadata as czimd\n",
    "from czitools import pylibczirw_tools as czird\n",
    "from czitools import misc, napari_tools\n",
    "from ipyfilechooser import FileChooser\n",
    "from IPython.display import display, HTML\n",
    "import napari\n",
    "from pathlib import Path\n",
    "import os\n",
    "import dask.array as da"
   ]
  },
  {
   "cell_type": "code",
   "execution_count": null,
   "metadata": {
    "pycharm": {
     "name": "#%%\n"
    }
   },
   "outputs": [],
   "source": [
    "defaultdir = os.path.join(Path(os.getcwd()).resolve().parents[1], \"data\")\n",
    "fc = FileChooser(defaultdir)\n",
    "fc.filter_pattern = '*.czi'\n",
    "display(fc)"
   ]
  },
  {
   "cell_type": "code",
   "execution_count": null,
   "metadata": {
    "pycharm": {
     "name": "#%%\n"
    }
   },
   "outputs": [],
   "source": [
    "# Print the selected path, filename, or both\n",
    "print(fc.selected_path)\n",
    "print(fc.selected_filename)\n",
    "print(fc.selected)"
   ]
  },
  {
   "cell_type": "code",
   "execution_count": null,
   "metadata": {},
   "outputs": [],
   "source": [
    "# get the complete metadata at once as one big class\n",
    "mdata = czimd.CziMetadata(fc.selected)\n",
    "\n",
    "# get the CZI metadata dictionary directly from filename\n",
    "mdict = czimd.create_mdict_red(mdata, sort=False)\n",
    "\n",
    "# convert metadata dictionary to a pandas dataframe\n",
    "mdframe = misc.md2dataframe(mdict)\n",
    "\n",
    "# and display it nicely as a HTML inside the jupyter notebook\n",
    "display(HTML(mdframe.to_html()))"
   ]
  },
  {
   "cell_type": "code",
   "execution_count": null,
   "metadata": {},
   "outputs": [],
   "source": [
    "# return array with dimension order STZCYXA\n",
    "array6d, mdata, dimstring = czird.read_6darray(fc.selected,\n",
    "                                               use_dask=True,\n",
    "                                               chunk_zyx=True,\n",
    "                                               output_order=\"STCZYX\")\n",
    "\n",
    "# remove A dimension do display the array inside Napari\n",
    "dim_order, dim_index, dim_valid = czimd.CziMetadata.get_dimorder(dimstring)\n",
    "\n",
    "# show dask array structure\n",
    "if isinstance(array6d, da.array):\n",
    "    array6d\n",
    "\n",
    "out = type(array6d)\n",
    "print(out)"
   ]
  },
  {
   "cell_type": "code",
   "execution_count": null,
   "metadata": {},
   "outputs": [],
   "source": [
    "# show array inside napari viewer\n",
    "viewer = napari.Viewer()\n",
    "layers = napari_tools.show(viewer, array6d, mdata,\n",
    "                           dim_string=dimstring,\n",
    "                           blending=\"additive\",\n",
    "                           contrast='napari_auto',\n",
    "                           gamma=0.85,\n",
    "                           add_mdtable=True,\n",
    "                           name_sliders=True)"
   ]
  },
  {
   "cell_type": "code",
   "execution_count": null,
   "metadata": {},
   "outputs": [],
   "source": [
    "napari.utils.nbscreenshot(viewer)"
   ]
  }
 ],
 "metadata": {
  "kernelspec": {
   "display_name": "ia39",
   "language": "python",
   "name": "python3"
  },
  "language_info": {
   "codemirror_mode": {
    "name": "ipython",
    "version": 3
   },
   "file_extension": ".py",
   "mimetype": "text/x-python",
   "name": "python",
   "nbconvert_exporter": "python",
   "pygments_lexer": "ipython3",
   "version": "3.9.15"
  },
  "vscode": {
   "interpreter": {
    "hash": "860439aa1091ca9628697fade70363ec3e96a6399b1dfa15ee9e896d1606a397"
   }
  }
 },
 "nbformat": 4,
 "nbformat_minor": 4
}
