{
 "cells": [
  {
   "cell_type": "markdown",
   "metadata": {
    "pycharm": {
     "name": "#%% md\n"
    }
   },
   "source": [
    "## Prerequisites\n",
    "\n",
    "In order to run this notebook one needs to have pyclesperanto installed !\n",
    "\n",
    "For details on how to do this check: [pyclesperanto_prototype](https://github.com/clEsperanto/pyclesperanto_prototype)"
   ]
  },
  {
   "cell_type": "code",
   "execution_count": null,
   "metadata": {
    "jupyter": {
     "outputs_hidden": false
    },
    "pycharm": {
     "is_executing": true,
     "name": "#%%\n"
    }
   },
   "outputs": [],
   "source": [
    "# import the required libraries\n",
    "from czitools import pylibczirw_metadata as czimd\n",
    "from czitools import misc\n",
    "from pylibCZIrw import czi as pyczi\n",
    "from pathlib import Path\n",
    "import os\n",
    "import pandas as pd\n",
    "from skimage import measure, segmentation\n",
    "from tqdm.contrib.itertools import product\n",
    "import pyclesperanto_prototype as cle\n",
    "from typing import List, Dict, Tuple, Optional, Type, Any, Union\n",
    "import numpy as np"
   ]
  },
  {
   "cell_type": "code",
   "execution_count": null,
   "metadata": {
    "pycharm": {
     "name": "#%%\n"
    }
   },
   "outputs": [],
   "source": [
    "def cleseg_voroni_otsu(image: np.ndarray,\n",
    "                    sigma_spot_detection: int = 5,\n",
    "                    sigma_outline: int = 1,\n",
    "                    convert2numpy: bool = True,\n",
    "                    verbose: bool = False) -> Union[np.ndarray, cle.Image]:\n",
    "\n",
    "    # based on: https://biapol.github.io/HIP_Introduction_to_Napari_and_image_processing_with_Python_2022/07_Image_segmentation/02_voronoi_otsu_labeling.html\n",
    "\n",
    "    # transfer the image to the GPU\n",
    "    image_to_segment = cle.asarray(image)\n",
    "\n",
    "    # blur the image with a given sigma and detect maxima in the resulting image.\n",
    "    blurred = cle.gaussian_blur(image_to_segment, sigma_x=sigma_spot_detection, sigma_y=sigma_spot_detection, sigma_z=sigma_spot_detection)\n",
    "\n",
    "    detected_spots = cle.detect_maxima_box(blurred, radius_x=0, radius_y=0, radius_z=0)\n",
    "\n",
    "    if verbose:\n",
    "        number_of_spots = cle.sum_of_all_pixels(detected_spots)\n",
    "        print(\"Detected spots\", number_of_spots)\n",
    "\n",
    "    # blur it again with a different sigma and run threshold the image\n",
    "    blurred2 = cle.gaussian_blur(image_to_segment, sigma_x=sigma_outline, sigma_y=sigma_outline, sigma_z=sigma_outline)\n",
    "    binary = cle.threshold_otsu(blurred2)\n",
    "\n",
    "    # take the binary spots and segmentation image, apply a binary_and\n",
    "    # to exclude spots which were detected in the background area.\n",
    "    selected_spots = cle.binary_and(binary, detected_spots)\n",
    "\n",
    "    if verbose:\n",
    "        number_of_spots = cle.sum_of_all_pixels(selected_spots)\n",
    "        print(\"Selected spots\", number_of_spots)\n",
    "\n",
    "    # convert back to numpy array\n",
    "    labeling = cle.masked_voronoi_labeling(selected_spots, binary)\n",
    "\n",
    "    if convert2numpy:\n",
    "        labeling = cle.pull(labeling)\n",
    "\n",
    "    return labeling"
   ]
  },
  {
   "cell_type": "code",
   "execution_count": null,
   "metadata": {
    "pycharm": {
     "name": "#%%\n"
    }
   },
   "outputs": [],
   "source": [
    "# list names of all available OpenCL-devices\n",
    "print(\"Available OpenCL devices:\" + str(cle.available_device_names()))\n",
    "\n",
    "# select a specific OpenCL / GPU device and see which one was chosen\n",
    "device = cle.select_device(\"NVIDIA RTX A3000 Laptop GPU\")\n",
    "print(\"Used GPU: \", device)\n",
    "\n",
    "defaultdir = os.path.join(Path(os.getcwd()).resolve().parents[1], \"data\")\n",
    "filepath = os.path.join(defaultdir, \"w96_A1+A2.czi\")"
   ]
  },
  {
   "cell_type": "code",
   "execution_count": null,
   "metadata": {
    "pycharm": {
     "name": "#%%\n"
    }
   },
   "outputs": [],
   "source": [
    "# define columns names for dataframe for the measure objects\n",
    "cols = [\"WellId\", \"Well_ColId\", \"Well_RowId\", \"S\", \"T\", \"Z\", \"C\", \"Number\"]\n",
    "objects = pd.DataFrame(columns=cols)\n",
    "results = pd.DataFrame()\n",
    "\n",
    "# define the nucleus channel and parameters\n",
    "chindex = 0\n",
    "sigma_spot_detection = 5\n",
    "sigma_outline = 1\n",
    "minsize = 100  # minimum object size [pixel]\n",
    "maxsize = 500  # maximum object size [pixel]"
   ]
  },
  {
   "cell_type": "code",
   "execution_count": null,
   "metadata": {
    "pycharm": {
     "name": "#%%\n"
    }
   },
   "outputs": [],
   "source": [
    "# define region properties to be measured and their units\n",
    "to_measure = ('label',\n",
    "              'area',\n",
    "              'centroid',\n",
    "              'max_intensity',\n",
    "              'mean_intensity',\n",
    "              'min_intensity',\n",
    "              'bbox'\n",
    "              )\n",
    "\n",
    "units = [\"micron**2\", \"pixel\", \"pixel\", \"cts\", \"counts\", \"cts\", ]"
   ]
  },
  {
   "cell_type": "code",
   "execution_count": null,
   "metadata": {
    "pycharm": {
     "name": "#%%\n"
    }
   },
   "outputs": [],
   "source": [
    "# get the complete metadata at once as one big class\n",
    "mdata = czimd.CziMetadata(filepath)\n",
    "\n",
    "# check if dimensions are None (because they do not exist for that image)\n",
    "size_c = misc.check_dimsize(mdata.image.SizeC, set2value=1)\n",
    "size_z = misc.check_dimsize(mdata.image.SizeZ, set2value=1)\n",
    "size_t = misc.check_dimsize(mdata.image.SizeT, set2value=1)\n",
    "size_s = misc.check_dimsize(mdata.image.SizeS, set2value=1)"
   ]
  },
  {
   "cell_type": "code",
   "execution_count": null,
   "metadata": {
    "pycharm": {
     "name": "#%%\n"
    }
   },
   "outputs": [],
   "source": [
    "# open the original CZI document to read 2D image planes\n",
    "with pyczi.open_czi(filepath) as czidoc_r:\n",
    "\n",
    "    # read 2d array by looping over the planes except for the channel\n",
    "    for s, t, z in product(range(size_s),\n",
    "                           range(size_t),\n",
    "                           range(size_z)):\n",
    "\n",
    "        # get the current plane indices and store them\n",
    "        values = {'S': s, 'T': t, 'Z': z, 'C': chindex, 'Number': 0}\n",
    "\n",
    "        # read 2D plane in case there are (no) scenes\n",
    "        if mdata.image.SizeS is None:\n",
    "            image2d = czidoc_r.read(plane={'T': t, 'Z': z, 'C': chindex})[..., 0]\n",
    "        else:\n",
    "            image2d = czidoc_r.read(plane={'T': t, 'Z': z, 'C': chindex}, scene=s)[..., 0]\n",
    "\n",
    "        # do the voroni-otsu segmentation with GPU accelleration\n",
    "        labels = cleseg_voroni_otsu(image2d,\n",
    "                                    sigma_spot_detection=sigma_spot_detection,\n",
    "                                    sigma_outline=sigma_outline,\n",
    "                                    convert2numpy=True,\n",
    "                                    verbose=False)\n",
    "\n",
    "        # clear the border by removing \"touching\" objects\n",
    "        labels = segmentation.clear_border(labels)\n",
    "\n",
    "        # measure the specified parameters store in dataframe\n",
    "        props = pd.DataFrame(measure.regionprops_table(labels,\n",
    "                                                       intensity_image=image2d,\n",
    "                                                       properties=to_measure)).set_index('label')\n",
    "\n",
    "        # filter objects by size\n",
    "        props = props[(props['area'] >= minsize) & (props['area'] <= maxsize)]\n",
    "\n",
    "        # add well information from CZI metadata\n",
    "        try:\n",
    "            props['WellId'] = mdata.sample.well_array_names[s]\n",
    "            props['Well_ColId'] = mdata.sample.well_colID[s]\n",
    "            props['Well_RowId'] = mdata.sample.well_rowID[s]\n",
    "        except (IndexError, KeyError) as error:\n",
    "            print('Error:', error)\n",
    "            print('Well Information not found. Using S-Index.')\n",
    "            props['WellId'] = s\n",
    "            props['Well_ColId'] = s\n",
    "            props['Well_RowId'] = s\n",
    "\n",
    "        # add plane indices\n",
    "        props['S'] = s\n",
    "        props['T'] = t\n",
    "        props['Z'] = z\n",
    "        props['C'] = chindex\n",
    "\n",
    "        values = {\"WellId\": props['WellId'],\n",
    "                  \"Well_ColId\": props['Well_ColId'],\n",
    "                  \"Well_RowId\": props['Well_RowId'],\n",
    "                  \"S\": s,\n",
    "                  \"T\": t,\n",
    "                  \"Z\": z,\n",
    "                  \"C\": chindex,\n",
    "                  \"Number\": props.shape[0]}\n",
    "\n",
    "        print('Well:', props['WellId'].iloc[0], ' Objects: ', values['Number'])\n",
    "\n",
    "        # update dataframe containing the number of objects\n",
    "        objects = pd.concat([objects, pd.DataFrame(values, index=[0])], ignore_index=True)\n",
    "        results = pd.concat([results, props], ignore_index=True)"
   ]
  },
  {
   "cell_type": "code",
   "execution_count": null,
   "metadata": {
    "pycharm": {
     "name": "#%%\n"
    }
   },
   "outputs": [],
   "source": [
    "# reorder dataframe with single objects and show some results\n",
    "new_order = list(results.columns[-7:]) + list(results.columns[:-7])\n",
    "results = results.reindex(columns=new_order)\n",
    "results[:5]"
   ]
  },
  {
   "cell_type": "code",
   "execution_count": null,
   "metadata": {
    "pycharm": {
     "name": "#%%\n"
    }
   },
   "outputs": [],
   "source": []
  }
 ],
 "metadata": {
  "kernelspec": {
   "display_name": "Python [conda env:napari_czmodel]",
   "language": "python",
   "name": "conda-env-napari_czmodel-py"
  },
  "language_info": {
   "codemirror_mode": {
    "name": "ipython",
    "version": 3
   },
   "file_extension": ".py",
   "mimetype": "text/x-python",
   "name": "python",
   "nbconvert_exporter": "python",
   "pygments_lexer": "ipython3",
   "version": "3.9.12"
  },
  "vscode": {
   "interpreter": {
    "hash": "5bc826f10800e17b3217f4ee753e4fa048aac902b8efb801aa08b8fbeb72b071"
   }
  }
 },
 "nbformat": 4,
 "nbformat_minor": 4
}
