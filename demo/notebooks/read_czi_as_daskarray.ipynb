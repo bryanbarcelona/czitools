{
 "cells": [
  {
   "cell_type": "code",
   "execution_count": null,
   "metadata": {},
   "outputs": [],
   "source": [
    "# import the required libraries\n",
    "from czitools import pylibczirw_metadata as czimd\n",
    "from czitools import pylibczirw_tools as czird\n",
    "from czitools import misc, napari_tools\n",
    "from ipyfilechooser import FileChooser\n",
    "from IPython.display import display, HTML\n",
    "import napari\n",
    "from pathlib import Path\n",
    "import os\n",
    "import dask.array as da"
   ]
  },
  {
   "cell_type": "code",
   "execution_count": null,
   "metadata": {
    "pycharm": {
     "name": "#%%\n"
    }
   },
   "outputs": [],
   "source": [
    "defaultdir = os.path.join(Path(os.getcwd()).resolve().parents[1], \"data\")\n",
    "fc = FileChooser(defaultdir)\n",
    "fc.filter_pattern = '*.czi'\n",
    "display(fc)"
   ]
  },
  {
   "cell_type": "code",
   "execution_count": null,
   "metadata": {},
   "outputs": [],
   "source": [
    "# get the complete metadata at once as one big class\n",
    "mdata = czimd.CziMetadata(fc.selected)\n",
    "\n",
    "# get only specific metadata\n",
    "czi_dimensions = czimd.CziDimensions(fc.selected)\n",
    "print(\"SizeS: \", czi_dimensions.SizeS)\n",
    "print(\"SizeT: \", czi_dimensions.SizeT)\n",
    "print(\"SizeZ: \", czi_dimensions.SizeZ)\n",
    "print(\"SizeC: \", czi_dimensions.SizeC)\n",
    "print(\"SizeY: \", czi_dimensions.SizeY)\n",
    "print(\"SizeX: \", czi_dimensions.SizeX)"
   ]
  },
  {
   "cell_type": "code",
   "execution_count": null,
   "metadata": {},
   "outputs": [],
   "source": [
    "# return array with dimension order STZCYXA\n",
    "array6d, mdata, dim_string6d  = czird.read_6darray(fc.selected,\n",
    "                                                    output_order=\"STZCYX\",\n",
    "                                                    chunks_auto=False,\n",
    "                                                    output_dask=True,\n",
    "                                                    remove_Adim=True)"
   ]
  },
  {
   "cell_type": "code",
   "execution_count": null,
   "metadata": {},
   "outputs": [],
   "source": [
    "# show the dask array\n",
    "array6d"
   ]
  },
  {
   "cell_type": "code",
   "execution_count": null,
   "metadata": {},
   "outputs": [],
   "source": [
    "# show array inside napari viewer\n",
    "viewer = napari.Viewer()\n",
    "layers = napari_tools.show(viewer, array6d, mdata,\n",
    "                           dim_string=dim_string6d,\n",
    "                           blending=\"additive\",\n",
    "                           contrast='napari_auto',\n",
    "                           gamma=0.85,\n",
    "                           add_mdtable=True,\n",
    "                           name_sliders=True)"
   ]
  },
  {
   "cell_type": "code",
   "execution_count": null,
   "metadata": {},
   "outputs": [],
   "source": [
    "napari.utils.nbscreenshot(viewer)"
   ]
  },
  {
   "cell_type": "code",
   "execution_count": null,
   "metadata": {},
   "outputs": [],
   "source": []
  }
 ],
 "metadata": {
  "kernelspec": {
   "display_name": "Python [conda env:ia39]",
   "language": "python",
   "name": "conda-env-ia39-py"
  },
  "language_info": {
   "codemirror_mode": {
    "name": "ipython",
    "version": 3
   },
   "file_extension": ".py",
   "mimetype": "text/x-python",
   "name": "python",
   "nbconvert_exporter": "python",
   "pygments_lexer": "ipython3",
   "version": "3.9.13"
  },
  "vscode": {
   "interpreter": {
    "hash": "5bc826f10800e17b3217f4ee753e4fa048aac902b8efb801aa08b8fbeb72b071"
   }
  }
 },
 "nbformat": 4,
 "nbformat_minor": 4
}
