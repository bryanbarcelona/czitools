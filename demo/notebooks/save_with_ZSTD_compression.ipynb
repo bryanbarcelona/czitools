{
 "cells": [
  {
   "cell_type": "code",
   "execution_count": 1,
   "metadata": {},
   "outputs": [],
   "source": [
    "from czitools import pylibczirw_metadata as czimd\n",
    "from czitools import pylibczirw_tools\n",
    "from pylibCZIrw import czi as pyczi\n",
    "import os\n",
    "from tqdm.contrib.itertools import product\n",
    "import numpy as np\n",
    "from pathlib import Path"
   ]
  },
  {
   "cell_type": "code",
   "execution_count": 2,
   "metadata": {},
   "outputs": [
    {
     "name": "stdout",
     "output_type": "stream",
     "text": [
      "No Objective Name : 'Name'\n",
      "No Objective ID : 'Id'\n",
      "DetectorID not found : 'Id'\n",
      "DetectorName not found : 'Name'\n",
      "DetectorType not found : 'Type'\n",
      "Microscope System Name not found : 'System'\n",
      "No Scene or Well information found.\n"
     ]
    },
    {
     "data": {
      "application/vnd.jupyter.widget-view+json": {
       "model_id": "08911dc305414cabb2e465d0de15f537",
       "version_major": 2,
       "version_minor": 0
      },
      "text/plain": [
       "  0%|          | 0/30 [00:00<?, ?it/s]"
      ]
     },
     "metadata": {},
     "output_type": "display_data"
    }
   ],
   "source": [
    "# get the defulat directory\n",
    "defaultdir = os.path.join(Path(os.getcwd()).resolve().parents[1], \"data\")\n",
    "\n",
    "filepath = os.path.join(defaultdir, \"CellDivision_T=3_Z=5_CH=2_X=240_Y=170.czi\")\n",
    "\n",
    "# return 6D array with dimension order STZCYXA\n",
    "array6d, mdata, dim_string6d,  = pylibczirw_tools.read_6darray(filepath,\n",
    "                                                               output_order=\"STZCYX\",\n",
    "                                                               chunks_auto=False,\n",
    "                                                               output_dask=False,\n",
    "                                                               remove_Adim=False)"
   ]
  },
  {
   "cell_type": "markdown",
   "metadata": {},
   "source": [
    "## ZSTD compression\n",
    "\n",
    "* zstd0 - You can specify the parameters of it like \"explicitlevel\" between -131072 and 22. (e.g. \"zstd0:ExplicitLevel=10\")\n",
    "* zstd1 - You can specify the parameters of it like \"explicitlevel\" between -131072 and 22 or \"preprocess\" - only have HiLoByteUnpack.\n",
    "  * This is only done for zstd1 and for pixel types gray16 and Bgr48. (e.g. \"zstd1:ExplicitLevel=10\" or \"zstd1:Preprocess=HiLoByteUnpack\")\n",
    "\n",
    "To read more -: https://facebook.github.io/zstd/"
   ]
  },
  {
   "cell_type": "code",
   "execution_count": 3,
   "metadata": {},
   "outputs": [],
   "source": [
    "# define the compression parameters\n",
    "\n",
    "#cmp = \"zstd0:ExplicitLevel=3\"\n",
    "#cmp = \"zstd1:ExplicitLevel=10\"\n",
    "#cmp = \"zstd1:Preprocess=HiLoByteUnpack;ExplicitLevel=3\"\n",
    "cmp = \"zstd1:Preprocess=HiLoByteUnpack;Level=Best\"\n",
    "\n",
    "filepath_comp = filepath[:-4] + \"_comp.czi\""
   ]
  },
  {
   "cell_type": "code",
   "execution_count": 4,
   "metadata": {},
   "outputs": [
    {
     "data": {
      "application/vnd.jupyter.widget-view+json": {
       "model_id": "c9deeb89cf2c45f8b91eb438f802ccae",
       "version_major": 2,
       "version_minor": 0
      },
      "text/plain": [
       "  0%|          | 0/30 [00:00<?, ?it/s]"
      ]
     },
     "metadata": {},
     "output_type": "display_data"
    }
   ],
   "source": [
    "# write the same CZI image back to disk but this time with using ZST compression\n",
    "\n",
    "# create a CZI to write to\n",
    "with pyczi.create_czi(filepath_comp, exist_ok=True) as czidoc_w:\n",
    "\n",
    "    # iterate over all 2D planes\n",
    "    for s, t, z, c in product(range(array6d.shape[0]),\n",
    "                              range(array6d.shape[1]),\n",
    "                              range(array6d.shape[2]),\n",
    "                              range(array6d.shape[3])):\n",
    "\n",
    "        # writing the image with compression\n",
    "        czidoc_w.write(\n",
    "            data=array6d[s, t, z, c, ...],\n",
    "            plane={\"C\": c, \"T\": t, \"Z\": z},\n",
    "            scene=s,\n",
    "            compression_options=cmp,  # valid for individual planes\n",
    "        )"
   ]
  },
  {
   "cell_type": "code",
   "execution_count": 5,
   "metadata": {},
   "outputs": [
    {
     "name": "stdout",
     "output_type": "stream",
     "text": [
      "Size of the uncompressed CZI file : 2.88 MB \n",
      "Size of the compressed CZI file   : 1.28 MB \n",
      "ZSTD Compression Ratio: 2.25\n"
     ]
    }
   ],
   "source": [
    "size = os.path.getsize(filepath)/1024.0**2\n",
    "print(f\"Size of the uncompressed CZI file : {np.round(size, 2)} MB \")\n",
    "\n",
    "size_comp = os.path.getsize(filepath_comp)/1024.0**2\n",
    "print(f\"Size of the compressed CZI file   : {np.round(size_comp, 2)} MB \")\n",
    "\n",
    "print(f\"ZSTD Compression Ratio: {np.round(size/size_comp, 2)}\")"
   ]
  }
 ],
 "metadata": {
  "kernelspec": {
   "display_name": "Python 3.9.12 ('napari_czmodel')",
   "language": "python",
   "name": "python3"
  },
  "language_info": {
   "codemirror_mode": {
    "name": "ipython",
    "version": 3
   },
   "file_extension": ".py",
   "mimetype": "text/x-python",
   "name": "python",
   "nbconvert_exporter": "python",
   "pygments_lexer": "ipython3",
   "version": "3.9.12"
  },
  "orig_nbformat": 4,
  "vscode": {
   "interpreter": {
    "hash": "5bc826f10800e17b3217f4ee753e4fa048aac902b8efb801aa08b8fbeb72b071"
   }
  }
 },
 "nbformat": 4,
 "nbformat_minor": 2
}
