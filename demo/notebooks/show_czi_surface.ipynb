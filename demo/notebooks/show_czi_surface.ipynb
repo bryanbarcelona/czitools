{
 "cells": [
  {
   "cell_type": "code",
   "execution_count": null,
   "metadata": {
    "pycharm": {
     "name": "#%%\n"
    }
   },
   "outputs": [],
   "source": [
    "import os\n",
    "import pandas as pd\n",
    "import plotly.offline as pyo\n",
    "from czitools import misc\n",
    "from ipyfilechooser import FileChooser\n",
    "from IPython.display import display\n",
    "from pathlib import Path\n",
    "import matplotlib.pyplot as plt\n",
    "from mpl_toolkits.mplot3d import axes3d\n",
    "#from matplotlib import cm, use\n",
    "#import matplotlib.colors as colors\n",
    "#import matplotlib.patches as mpatches\n",
    "import plotly.graph_objects as go\n",
    "import numpy as np\n",
    "\n",
    "pyo.init_notebook_mode()"
   ]
  },
  {
   "cell_type": "code",
   "execution_count": null,
   "metadata": {
    "pycharm": {
     "name": "#%%\n"
    }
   },
   "outputs": [],
   "source": [
    "defaultdir = os.path.join(Path(os.getcwd()).resolve().parents[1], \"data\")\n",
    "fc = FileChooser(defaultdir)\n",
    "fc.filter_pattern = '*.czi'\n",
    "display(fc)"
   ]
  },
  {
   "cell_type": "code",
   "execution_count": null,
   "metadata": {},
   "outputs": [],
   "source": [
    "def scatterplot_mpl(planetable,\n",
    "                    s=0, t=0, z=0, c=0,\n",
    "                    msz2d=35,\n",
    "                    normz=True,\n",
    "                    fig1savename='zsurface2d.png',\n",
    "                    fig2savename='zsurface3d.png',\n",
    "                    show3d=False,\n",
    "                    msz3d=20):\n",
    "\n",
    "    # extract XYZ positions\n",
    "    try:\n",
    "        xpos = planetable['X[micron]']\n",
    "        ypos = planetable['Y[micron]']\n",
    "        zpos = planetable['Z[micron]']\n",
    "    except KeyError as e:\n",
    "        xpos = planetable['X [micron]']\n",
    "        ypos = planetable['Y [micron]']\n",
    "        zpos = planetable['Z [micron]']\n",
    "\n",
    "    # normalize z-data by substracting the minimum value\n",
    "    if normz:\n",
    "        zpos = zpos - zpos.min()\n",
    "\n",
    "    # create a name for the figure\n",
    "    figtitle = 'XYZ-Positions:  S=' + str(s) + ' T=' + str(t) + ' Z=' + str(z) + ' CH=' + str(c)\n",
    "\n",
    "    # try to find a \"good\" aspect ratio for the figures\n",
    "    dx = xpos.max() - xpos.min()\n",
    "    dy = ypos.max() - ypos.min()\n",
    "    fsy = 8\n",
    "    fsx = np.ceil(fsy * dx / dy).astype(np.int)\n",
    "\n",
    "    # create figure\n",
    "    fig1, ax1 = plt.subplots(1, 1, figsize=(fsx + 1, fsy))\n",
    "\n",
    "    # invert the Y-axis --> O,O = Top-Left\n",
    "    ax1.invert_yaxis()\n",
    "\n",
    "    # configure the axis\n",
    "    ax1.set_title(figtitle)\n",
    "    ax1.set_xlabel('Stage X-Axis [micron]', fontsize=12, fontweight='normal')\n",
    "    ax1.set_ylabel('Stage Y-Axis [micron]', fontsize=12, fontweight='normal')\n",
    "    ax1.grid(True)\n",
    "    ax1.set_aspect('equal', 'box')\n",
    "\n",
    "    # plot data and label the colorbar\n",
    "    sc1 = ax1.scatter(xpos, ypos,\n",
    "                      marker='s',\n",
    "                      c=zpos,\n",
    "                      s=msz2d,\n",
    "                      facecolor=cm.coolwarm,\n",
    "                      edgecolor='black')\n",
    "\n",
    "    # add the colorbar on the right-hand side\n",
    "    cb1 = plt.colorbar(sc1,\n",
    "                       fraction=0.046,\n",
    "                       shrink=0.8,\n",
    "                       pad=0.04)\n",
    "\n",
    "    # add a label\n",
    "    if normz:\n",
    "        cb1.set_label('Z-Offset [micron]',\n",
    "                      labelpad=20,\n",
    "                      fontsize=12,\n",
    "                      fontweight='normal')\n",
    "    if not normz:\n",
    "        cb1.set_label('Z-Position [micron]',\n",
    "                      labelpad=20,\n",
    "                      fontsize=12,\n",
    "                      fontweight='normal')\n",
    "\n",
    "    # save figure as PNG\n",
    "    fig1.savefig(fig1savename, dpi=100)\n",
    "    print('Saved: ', fig1savename)\n",
    "\n",
    "    # 3D plot of surface\n",
    "    fig2 = plt.figure(figsize=(fsx + 1, fsy))\n",
    "    ax2 = fig2.add_subplot(111, projection='3d')\n",
    "\n",
    "    # invert the Y-axis --> O,O = Top-Left\n",
    "    ax2.invert_yaxis()\n",
    "\n",
    "    # define the labels\n",
    "    ax2.set_xlabel('Stage X-Axis [micron]',\n",
    "                   fontsize=12,\n",
    "                   fontweight='normal')\n",
    "    ax2.set_ylabel('Stage Y-Axis [micron]',\n",
    "                   fontsize=12,\n",
    "                   fontweight='normal')\n",
    "    ax2.set_title(figtitle)\n",
    "\n",
    "    # plot data and label the colorbar\n",
    "    sc2 = ax2.scatter(xpos, ypos, zpos,\n",
    "                      marker='.',\n",
    "                      s=msz3d,\n",
    "                      c=zpos,\n",
    "                      facecolor=cm.coolwarm,\n",
    "                      depthshade=False)\n",
    "\n",
    "    # add colorbar to the 3d plot\n",
    "    cb2 = plt.colorbar(sc2, shrink=0.8)\n",
    "    # add a label\n",
    "    if normz:\n",
    "        cb2.set_label('Z-Offset [micron]',\n",
    "                      labelpad=20,\n",
    "                      fontsize=12,\n",
    "                      fontweight='normal')\n",
    "    if not normz:\n",
    "        cb2.set_label('Z-Position [micron]',\n",
    "                      labelpad=20,\n",
    "                      fontsize=12,\n",
    "                      fontweight='normal')\n",
    "\n",
    "    # save figure as PNG\n",
    "    fig2.savefig(fig2savename, dpi=100)\n",
    "    print('Saved: ', fig2savename)\n",
    "\n",
    "    return fig1, fig2\n"
   ]
  },
  {
   "cell_type": "code",
   "execution_count": null,
   "metadata": {},
   "outputs": [],
   "source": [
    "def scatterplot_plotly(planetable,\n",
    "                       s=0, t=0, z=0, c=0,\n",
    "                       msz2d=35,\n",
    "                       normz=True,\n",
    "                       fig1savename='zsurface2d.html',\n",
    "                       fig2savename='zsurface3d.html',\n",
    "                       msz3d=20):\n",
    "\n",
    "    # extract XYZ position for the selected channel\n",
    "    try:\n",
    "        xpos = planetable['X[micron]']\n",
    "        ypos = planetable['Y[micron]']\n",
    "        zpos = planetable['Z[micron]']\n",
    "    except KeyError as e:\n",
    "        xpos = planetable['X [micron]']\n",
    "        ypos = planetable['Y [micron]']\n",
    "        zpos = planetable['Z [micron]']\n",
    "\n",
    "    # normalize z-data by substracting the minimum value\n",
    "    if normz:\n",
    "        zpos = zpos - zpos.min()\n",
    "        scalebar_title = 'Z-Offset [micron]'\n",
    "    if not normz:\n",
    "        scalebar_title = 'Z-Position [micron]'\n",
    "\n",
    "    # create a name for the figure\n",
    "    figtitle = 'XYZ-Positions:  S=' + str(s) + ' T=' + str(t) + ' Z=' + str(z) + ' CH=' + str(c)\n",
    "\n",
    "    fig1 = go.Figure(\n",
    "        data=go.Scatter(\n",
    "            x=xpos,\n",
    "            y=ypos,\n",
    "            mode='markers',\n",
    "            text=np.round(zpos, 1),\n",
    "            marker_symbol='square',\n",
    "            marker_size=msz2d,\n",
    "            marker=dict(\n",
    "                color=zpos,\n",
    "                colorscale='Viridis',\n",
    "                line_width=2,\n",
    "                showscale=True,\n",
    "                colorbar=dict(thickness=10,\n",
    "                              title=dict(\n",
    "                                  text=scalebar_title,\n",
    "                                  side='right'))\n",
    "            )\n",
    "        )\n",
    "    )\n",
    "\n",
    "    fig1.update_xaxes(showgrid=True, zeroline=True, automargin=True)\n",
    "    fig1.update_yaxes(showgrid=True, zeroline=True, automargin=True)\n",
    "    fig1['layout']['yaxis']['autorange'] = \"reversed\"\n",
    "    fig1.update_layout(title=figtitle,\n",
    "                       xaxis_title=\"StageX Position [micron]\",\n",
    "                       yaxis_title=\"StageY Position [micron]\",\n",
    "                       font=dict(size=16,\n",
    "                                 color='Black')\n",
    "                       )\n",
    "\n",
    "    # save the figure\n",
    "    fig1.write_html(fig1savename)\n",
    "    print('Saved: ', fig1savename)\n",
    "\n",
    "    fig2 = go.Figure(data=[go.Scatter3d(\n",
    "        x=xpos,\n",
    "        y=ypos,\n",
    "        z=zpos,\n",
    "        mode='markers',\n",
    "        marker=dict(\n",
    "            size=msz3d,\n",
    "            color=zpos,\n",
    "            colorscale='Viridis',\n",
    "            opacity=0.8,\n",
    "            colorbar=dict(thickness=10,\n",
    "                          title=dict(\n",
    "                              text=scalebar_title,\n",
    "                              side='right')\n",
    "                          )\n",
    "        )\n",
    "    )])\n",
    "\n",
    "    fig2.update_xaxes(showgrid=True, zeroline=True, automargin=True)\n",
    "    fig2.update_yaxes(showgrid=True, zeroline=True, automargin=True)\n",
    "    fig2['layout']['yaxis']['autorange'] = \"reversed\"\n",
    "    fig2.update_layout(title=figtitle,\n",
    "                       xaxis_title=\"StageX Position [micron]\",\n",
    "                       yaxis_title=\"StageY Position [micron]\",\n",
    "                       font=dict(size=16,\n",
    "                                 color='Black')\n",
    "                       )\n",
    "\n",
    "    # save the figure\n",
    "    fig2.write_html(fig2savename)\n",
    "    print('Saved: ', fig2savename)\n",
    "\n",
    "    return fig1, fig2"
   ]
  },
  {
   "cell_type": "code",
   "execution_count": null,
   "metadata": {
    "pycharm": {
     "name": "#%%\n"
    }
   },
   "outputs": [],
   "source": [
    "isczi = False\n",
    "iscsv = False\n",
    "\n",
    "# check if the input is a csv or czi file\n",
    "if fc.selected.lower().endswith('.czi'):\n",
    "    isczi = True\n",
    "if fc.selected.lower().endswith('.csv'):\n",
    "    iscsv = True"
   ]
  },
  {
   "cell_type": "code",
   "execution_count": null,
   "metadata": {
    "pycharm": {
     "name": "#%%\n"
    }
   },
   "outputs": [],
   "source": [
    "# separator of CSV file\n",
    "separator=','\n",
    "\n",
    "# read the data from CSV file\n",
    "if iscsv:\n",
    "    planetable = pd.read_csv(fc.selected, sep=separator)\n",
    "if isczi:\n",
    "    # read the data from CSV file\n",
    "    planetable, csvfile = misc.get_planetable(fc.selected)\n",
    "\n",
    "\n",
    "planetable[:3]"
   ]
  },
  {
   "cell_type": "code",
   "execution_count": null,
   "metadata": {
    "pycharm": {
     "name": "#%%\n"
    }
   },
   "outputs": [],
   "source": [
    "# specify the output format - 'mpl' or 'html'\n",
    "plot_type='html'\n",
    "\n",
    "# define plot type\n",
    "if plot_type == 'mpl':\n",
    "    saveformat = 'png'\n",
    "if plot_type == 'html':\n",
    "    saveformat = 'html'\n",
    "    \n",
    "# define name for figure to be saved\n",
    "filename = os.path.basename(fc.selected)\n",
    "fig1savename = os.path.splitext(fc.selected)[0] + '_XYZ-Pos' + '.' + saveformat\n",
    "fig2savename = os.path.splitext(fc.selected)[0] + '_XYZ-Pos3D' + '.' + saveformat"
   ]
  },
  {
   "cell_type": "code",
   "execution_count": null,
   "metadata": {
    "pycharm": {
     "name": "#%%\n"
    }
   },
   "outputs": [],
   "source": [
    "# filter the planetable for S, T, Z and C entries\n",
    "planetable_filtered = misc.filter_planetable(planetable, s=0, t=0, z=0, c=0)\n",
    "planetable_filtered[:5]"
   ]
  },
  {
   "cell_type": "code",
   "execution_count": null,
   "metadata": {
    "pycharm": {
     "name": "#%%\n"
    },
    "tags": []
   },
   "outputs": [],
   "source": [
    "if plot_type == 'mpl':\n",
    "    # display the XYZ positions using matplotlib\n",
    "    fig1, fig2 = scatterplot_mpl(planetable_filtered,\n",
    "                                 s=0, t=0, z=0, c=0,\n",
    "                                 msz2d=100,\n",
    "                                 normz=True,\n",
    "                                 fig1savename=fig1savename,\n",
    "                                 fig2savename=fig2savename,\n",
    "                                 msz3d=10)\n",
    "\n",
    "if plot_type == 'html':\n",
    "    # display the XYZ positions using plotly\n",
    "    fig1, fig2 = scatterplot_plotly(planetable_filtered,\n",
    "                                    s=0, t=0, z=0, c=0,\n",
    "                                    msz2d=20,\n",
    "                                    normz=True,\n",
    "                                    fig1savename=fig1savename,\n",
    "                                    fig2savename=fig2savename,\n",
    "                                    msz3d=10)\n",
    "\n",
    "    pyo.iplot(fig1)\n",
    "    pyo.iplot(fig2)"
   ]
  },
  {
   "cell_type": "code",
   "execution_count": null,
   "metadata": {
    "pycharm": {
     "name": "#%%\n"
    },
    "tags": []
   },
   "outputs": [],
   "source": [
    "# write the planetable to a csv\n",
    "csvfile = misc.save_planetable(planetable, fc.selected,\n",
    "                                separator=separator,\n",
    "                                index=False)\n",
    "\n",
    "print('Write to CSV File : ', csvfile)"
   ]
  },
  {
   "cell_type": "code",
   "execution_count": null,
   "metadata": {},
   "outputs": [],
   "source": []
  }
 ],
 "metadata": {
  "kernelspec": {
   "display_name": "Python [conda env:ia39]",
   "language": "python",
   "name": "conda-env-ia39-py"
  },
  "language_info": {
   "codemirror_mode": {
    "name": "ipython",
    "version": 3
   },
   "file_extension": ".py",
   "mimetype": "text/x-python",
   "name": "python",
   "nbconvert_exporter": "python",
   "pygments_lexer": "ipython3",
   "version": "3.9.13"
  },
  "vscode": {
   "interpreter": {
    "hash": "5bc826f10800e17b3217f4ee753e4fa048aac902b8efb801aa08b8fbeb72b071"
   }
  }
 },
 "nbformat": 4,
 "nbformat_minor": 4
}
