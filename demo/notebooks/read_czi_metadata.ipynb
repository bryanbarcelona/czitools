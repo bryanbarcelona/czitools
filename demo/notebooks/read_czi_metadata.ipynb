{
  "cells": [
    {
      "cell_type": "code",
      "execution_count": 2,
      "metadata": {},
      "outputs": [],
      "source": [
        "try:\n",
        "  import google.colab\n",
        "  IN_COLAB = True\n",
        "except:\n",
        "  IN_COLAB = False"
      ]
    },
    {
      "cell_type": "code",
      "execution_count": 3,
      "metadata": {},
      "outputs": [],
      "source": [
        "if IN_COLAB:\n",
        "  # Install dependencies\n",
        "  ! pip install --upgrade pip\n",
        "  ! pip install czitools\n",
        "  ! pip install ipyfilechooser"
      ]
    },
    {
      "cell_type": "code",
      "execution_count": 4,
      "metadata": {},
      "outputs": [],
      "source": [
        "# import the required libraries\n",
        "from czitools import metadata_tools as czimd\n",
        "from czitools import misc_tools\n",
        "from ipyfilechooser import FileChooser\n",
        "from IPython.display import display, HTML\n",
        "from pathlib import Path\n",
        "import os\n",
        "import requests\n",
        "import ipywidgets as widgets"
      ]
    },
    {
      "cell_type": "markdown",
      "metadata": {},
      "source": [
        "### Define Parameters for Data Loading"
      ]
    },
    {
      "cell_type": "code",
      "execution_count": 5,
      "metadata": {
        "pycharm": {
          "name": "#%%\n"
        }
      },
      "outputs": [],
      "source": [
        "# try to find the folder with data and download otherwise from GitHub.\n",
        "\n",
        "# Folder containing the input data\n",
        "if IN_COLAB:\n",
        "    INPUT_FOLDER = 'data/'\n",
        "if not IN_COLAB:\n",
        "    INPUT_FOLDER = '../../data/'\n",
        "\n",
        "# Path to the data on GitHub\n",
        "GITHUB_IMAGES_PATH = \"https://raw.githubusercontent.com/sebi06/czitools/main/data.zip\"\n",
        "\n",
        "# Download data\n",
        "if not (os.path.isdir(INPUT_FOLDER)):\n",
        "    compressed_data = './data.zip'\n",
        "    if not os.path.isfile(compressed_data):\n",
        "        import io\n",
        "        response = requests.get(GITHUB_IMAGES_PATH, stream=True)\n",
        "        compressed_data = io.BytesIO(response.content)\n",
        "\n",
        "    import zipfile\n",
        "    with zipfile.ZipFile(compressed_data, 'r') as zip_accessor:\n",
        "        zip_accessor.extractall('./')"
      ]
    },
    {
      "cell_type": "code",
      "execution_count": 6,
      "metadata": {},
      "outputs": [
        {
          "data": {
            "application/vnd.jupyter.widget-view+json": {
              "model_id": "04b557f2a94f49b3bf44a5ced015d700",
              "version_major": 2,
              "version_minor": 0
            },
            "text/plain": [
              "FileChooser(path='E:\\Github\\czitools\\demo\\notebooks', filename='', title='', show_hidden=False, select_desc='S…"
            ]
          },
          "metadata": {},
          "output_type": "display_data"
        }
      ],
      "source": [
        "fc = FileChooser()\n",
        "fc.filter_pattern = '*.czi'\n",
        "display(fc)"
      ]
    },
    {
      "cell_type": "code",
      "execution_count": 7,
      "metadata": {
        "pycharm": {
          "name": "#%%\n"
        }
      },
      "outputs": [
        {
          "name": "stdout",
          "output_type": "stream",
          "text": [
            "E:\\Github\\czitools\\data\n",
            "CellDivision_T10_Z15_CH2_DCV_small.czi\n",
            "E:\\Github\\czitools\\data\\CellDivision_T10_Z15_CH2_DCV_small.czi\n"
          ]
        }
      ],
      "source": [
        "# Print the selected path, filename, or both\n",
        "print(fc.selected_path)\n",
        "print(fc.selected_filename)\n",
        "print(fc.selected)"
      ]
    },
    {
      "cell_type": "code",
      "execution_count": 8,
      "metadata": {},
      "outputs": [
        {
          "name": "stderr",
          "output_type": "stream",
          "text": [
            "2024-02-11 13:00:54,273 -  \u001b[0;30;42mINFO\u001b[0m - Reading Dimensions from CZI image data.\n"
          ]
        },
        {
          "name": "stdout",
          "output_type": "stream",
          "text": [
            "SizeS:  None\n",
            "SizeT:  10\n",
            "SizeZ:  15\n",
            "SizeC:  2\n",
            "SizeY:  256\n",
            "SizeX:  256\n"
          ]
        }
      ],
      "source": [
        "# get only specific metadata\n",
        "czi_dimensions = czimd.CziDimensions(fc.selected)\n",
        "print(\"SizeS: \", czi_dimensions.SizeS)\n",
        "print(\"SizeT: \", czi_dimensions.SizeT)\n",
        "print(\"SizeZ: \", czi_dimensions.SizeZ)\n",
        "print(\"SizeC: \", czi_dimensions.SizeC)\n",
        "print(\"SizeY: \", czi_dimensions.SizeY)\n",
        "print(\"SizeX: \", czi_dimensions.SizeX)"
      ]
    },
    {
      "cell_type": "code",
      "execution_count": 9,
      "metadata": {},
      "outputs": [
        {
          "name": "stderr",
          "output_type": "stream",
          "text": [
            "2024-02-11 13:00:57,215 -  \u001b[0;30;42mINFO\u001b[0m - Reading Scaling from CZI image data.\n",
            "2024-02-11 13:00:57,455 -  \u001b[0;30;42mINFO\u001b[0m - Reading Channel Information from CZI image data.\n",
            "2024-02-11 13:00:57,707 -  \u001b[0;30;42mINFO\u001b[0m - Reading BoundingBoxes from CZI image data.\n",
            "2024-02-11 13:00:57,708 -  \u001b[0;30;42mINFO\u001b[0m - Reading Objective Information from CZI image data.\n",
            "2024-02-11 13:00:57,935 -  \u001b[0;30;42mINFO\u001b[0m - Reading Detector Information from CZI image data.\n",
            "2024-02-11 13:00:58,148 -  \u001b[0;30;42mINFO\u001b[0m - Reading Microscope Information from CZI image data.\n",
            "2024-02-11 13:00:58,356 -  \u001b[0;30;42mINFO\u001b[0m - Reading SampleCarrier Information from CZI image data.\n",
            "2024-02-11 13:00:58,561 -  \u001b[0;30;42mINFO\u001b[0m - Reading Dimensions from CZI image data.\n",
            "2024-02-11 13:00:58,561 -  \u001b[0;30;42mINFO\u001b[0m - No Scene or Well information found. Try to read XY Stage Coordinates from subblocks.\n",
            "2024-02-11 13:00:58,776 -  \u001b[0;30;42mINFO\u001b[0m - Reading Dimensions from CZI image data.\n"
          ]
        }
      ],
      "source": [
        "# and get more info\n",
        "czi_scaling = czimd.CziScaling(fc.selected)\n",
        "czi_channels = czimd.CziChannelInfo(fc.selected)\n",
        "czi_bbox = czimd.CziBoundingBox(fc.selected)\n",
        "czi_objectives = czimd.CziObjectives(fc.selected)\n",
        "czi_detectors = czimd.CziDetector(fc.selected)\n",
        "czi_microscope = czimd.CziMicroscope(fc.selected)\n",
        "czi_sample = czimd.CziSampleInfo(fc.selected)"
      ]
    },
    {
      "cell_type": "code",
      "execution_count": 10,
      "metadata": {},
      "outputs": [
        {
          "name": "stderr",
          "output_type": "stream",
          "text": [
            "2024-02-11 13:01:01,739 -  \u001b[0;30;42mINFO\u001b[0m - Reading Dimensions from CZI image data.\n",
            "2024-02-11 13:01:01,742 -  \u001b[0;30;42mINFO\u001b[0m - Reading BoundingBoxes from CZI image data.\n",
            "2024-02-11 13:01:01,743 -  \u001b[0;30;42mINFO\u001b[0m - Reading Channel Information from CZI image data.\n",
            "2024-02-11 13:01:01,744 -  \u001b[0;30;42mINFO\u001b[0m - Reading Scaling from CZI image data.\n",
            "2024-02-11 13:01:01,745 -  \u001b[0;30;42mINFO\u001b[0m - Reading Objective Information from CZI image data.\n",
            "2024-02-11 13:01:01,745 -  \u001b[0;30;42mINFO\u001b[0m - Reading Detector Information from CZI image data.\n",
            "2024-02-11 13:01:01,746 -  \u001b[0;30;42mINFO\u001b[0m - Reading Microscope Information from CZI image data.\n",
            "2024-02-11 13:01:01,748 -  \u001b[0;30;42mINFO\u001b[0m - Reading SampleCarrier Information from CZI image data.\n",
            "2024-02-11 13:01:01,749 -  \u001b[0;30;42mINFO\u001b[0m - Reading Dimensions from CZI image data.\n",
            "2024-02-11 13:01:01,751 -  \u001b[0;30;42mINFO\u001b[0m - No Scene or Well information found. Try to read XY Stage Coordinates from subblocks.\n",
            "2024-02-11 13:01:01,982 -  \u001b[0;30;42mINFO\u001b[0m - Reading Dimensions from CZI image data.\n",
            "2024-02-11 13:01:01,991 -  \u001b[0;30;42mINFO\u001b[0m - Reading additional Metedata from CZI image data.\n",
            "2024-02-11 13:01:01,992 -  \u001b[0;30;42mINFO\u001b[0m - No Layers information found.\n",
            "2024-02-11 13:01:01,993 -  \u001b[0;30;42mINFO\u001b[0m - Reading AttachmentImages from CZI image data.\n"
          ]
        },
        {
          "data": {
            "application/vnd.jupyter.widget-view+json": {
              "model_id": "944f0a830642447698947833fe609b91",
              "version_major": 2,
              "version_minor": 0
            },
            "text/plain": [
              "VBox(children=(Output(layout=Layout(height='300px')),))"
            ]
          },
          "metadata": {},
          "output_type": "display_data"
        }
      ],
      "source": [
        "# get the complete metadata at once as one big class\n",
        "mdata = czimd.CziMetadata(fc.selected)\n",
        "\n",
        "# get the CZI metadata dictionary directly from filename\n",
        "mdict = czimd.create_md_dict_red(mdata, sort=False, remove_none=True)\n",
        "\n",
        "# convert metadata dictionary to a pandas dataframe\n",
        "mdframe = misc_tools.md2dataframe(mdict)\n",
        "\n",
        "# create a ipywdiget to show the dataframe with the metadata\n",
        "wd1 = widgets.Output(layout={\"scrollY\": \"auto\", \"height\": \"300px\"})\n",
        "\n",
        "with wd1:\n",
        "    display(HTML(mdframe.to_html()))\n",
        "display(widgets.VBox(children=[wd1]))"
      ]
    },
    {
      "cell_type": "code",
      "execution_count": 11,
      "metadata": {},
      "outputs": [
        {
          "name": "stdout",
          "output_type": "stream",
          "text": [
            "XML File written to: E:\\Github\\czitools\\data\\CellDivision_T10_Z15_CH2_DCV_small_CZI_MetaData.xml\n"
          ]
        }
      ],
      "source": [
        "# write XML to disk\n",
        "xmlfile = czimd.writexml(fc.selected)\n",
        "print(\"XML File written to:\", xmlfile)"
      ]
    },
    {
      "cell_type": "code",
      "execution_count": 12,
      "metadata": {},
      "outputs": [
        {
          "name": "stderr",
          "output_type": "stream",
          "text": [
            "2024-02-11 13:01:14,270 -  \u001b[0;30;42mINFO\u001b[0m - Reading Dimensions from CZI image data.\n",
            "2024-02-11 13:01:14,835 -  \u001b[0;30;42mINFO\u001b[0m - PlaneTable saved as CSV file: E:\\Github\\czitools\\data\\CellDivision_T10_Z15_CH2_DCV_small_planetable.csv\n"
          ]
        },
        {
          "data": {
            "application/vnd.jupyter.widget-view+json": {
              "model_id": "2562f42cefd04af9ab9af3004dc62304",
              "version_major": 2,
              "version_minor": 0
            },
            "text/plain": [
              "VBox(children=(Output(layout=Layout(height='300px')),))"
            ]
          },
          "metadata": {},
          "output_type": "display_data"
        },
        {
          "name": "stdout",
          "output_type": "stream",
          "text": [
            "PlaneTable CSV File written to: E:\\Github\\czitools\\data\\CellDivision_T10_Z15_CH2_DCV_small_planetable.csv\n"
          ]
        }
      ],
      "source": [
        "# get the planetable for the CZI file\n",
        "pt, csvfile = misc_tools.get_planetable(fc.selected,\n",
        "                                  norm_time=True,\n",
        "                                  savetable=True,\n",
        "                                  separator=',',\n",
        "                                  index=True)\n",
        "\n",
        "# create a ipywdiget to show the dataframe with the metadata\n",
        "wd2 = widgets.Output(layout={\"scrollY\": \"auto\", \"height\": \"300px\"})\n",
        "\n",
        "with wd2:\n",
        "    display(HTML(pt.to_html()))\n",
        "display(widgets.VBox(children=[wd2]))\n",
        "\n",
        "print(\"PlaneTable CSV File written to:\", csvfile)"
      ]
    }
  ],
  "metadata": {
    "kernelspec": {
      "display_name": "ia39",
      "language": "python",
      "name": "python3"
    },
    "language_info": {
      "codemirror_mode": {
        "name": "ipython",
        "version": 3
      },
      "file_extension": ".py",
      "mimetype": "text/x-python",
      "name": "python",
      "nbconvert_exporter": "python",
      "pygments_lexer": "ipython3",
      "version": "3.10.13"
    },
    "vscode": {
      "interpreter": {
        "hash": "860439aa1091ca9628697fade70363ec3e96a6399b1dfa15ee9e896d1606a397"
      }
    }
  },
  "nbformat": 4,
  "nbformat_minor": 4
}
