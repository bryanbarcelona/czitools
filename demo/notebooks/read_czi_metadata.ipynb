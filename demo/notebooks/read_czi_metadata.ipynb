{
  "cells": [
    {
      "cell_type": "code",
      "execution_count": 1,
      "metadata": {},
      "outputs": [],
      "source": [
        "try:\n",
        "  import google.colab\n",
        "  IN_COLAB = True\n",
        "except:\n",
        "  IN_COLAB = False"
      ]
    },
    {
      "cell_type": "code",
      "execution_count": 2,
      "metadata": {},
      "outputs": [],
      "source": [
        "if IN_COLAB:\n",
        "  # Install dependencies\n",
        "  ! pip install --upgrade pip\n",
        "  ! pip install czitools\n",
        "  ! pip install ipyfilechooser"
      ]
    },
    {
      "cell_type": "code",
      "execution_count": 3,
      "metadata": {},
      "outputs": [],
      "source": [
        "# import the required libraries\n",
        "from czitools import metadata_tools as czimd\n",
        "from czitools import misc_tools\n",
        "from ipyfilechooser import FileChooser\n",
        "from IPython.display import display, HTML\n",
        "from pathlib import Path\n",
        "import os\n",
        "import requests\n",
        "import ipywidgets as widgets\n",
        "import glob"
      ]
    },
    {
      "cell_type": "markdown",
      "metadata": {},
      "source": [
        "### Define Parameters for Data Loading"
      ]
    },
    {
      "cell_type": "code",
      "execution_count": 9,
      "metadata": {
        "pycharm": {
          "name": "#%%\n"
        }
      },
      "outputs": [],
      "source": [
        "# try to find the folder with data and download otherwise from GitHub.\n",
        "\n",
        "# Folder containing the input data\n",
        "if IN_COLAB:\n",
        "    INPUT_FOLDER = 'data/'\n",
        "if not IN_COLAB:\n",
        "    INPUT_FOLDER = '../../data/'\n",
        "\n",
        "# Path to the data on GitHub\n",
        "GITHUB_IMAGES_PATH = \"https://raw.githubusercontent.com/sebi06/czitools/main/data.zip\"\n",
        "\n",
        "# Download data\n",
        "if not (os.path.isdir(INPUT_FOLDER)):\n",
        "    compressed_data = './data.zip'\n",
        "    if not os.path.isfile(compressed_data):\n",
        "        import io\n",
        "        response = requests.get(GITHUB_IMAGES_PATH, stream=True)\n",
        "        compressed_data = io.BytesIO(response.content)\n",
        "\n",
        "    import zipfile\n",
        "    with zipfile.ZipFile(compressed_data, 'r') as zip_accessor:\n",
        "        zip_accessor.extractall('./')"
      ]
    },
    {
      "cell_type": "code",
      "execution_count": 11,
      "metadata": {},
      "outputs": [
        {
          "data": {
            "application/vnd.jupyter.widget-view+json": {
              "model_id": "b6230baab62b42bf9111a13348727ef5",
              "version_major": 2,
              "version_minor": 0
            },
            "text/plain": [
              "FileChooser(path='E:\\Github\\czitools\\data', filename='', title='', show_hidden=False, select_desc='Select', ch…"
            ]
          },
          "metadata": {},
          "output_type": "display_data"
        }
      ],
      "source": [
        "if not IN_COLAB:\n",
        "    # choose local file\n",
        "    fc = FileChooser()\n",
        "    fc.default_path = INPUT_FOLDER\n",
        "    fc.filter_pattern = '*.czi'\n",
        "    display(fc)\n",
        "\n",
        "elif IN_COLAB:\n",
        "    # lislt files inside the folder om gdrive\n",
        "    czifiles = glob.glob(os.path.join(INPUT_FOLDER, \"*.czi\"))\n",
        "    wd = widgets.Select(\n",
        "        options=czifiles,\n",
        "        description='CZI Files:',\n",
        "        layout={'width': 'max-content'}\n",
        "    )\n",
        "    display(wd)"
      ]
    },
    {
      "cell_type": "code",
      "execution_count": 14,
      "metadata": {
        "pycharm": {
          "name": "#%%\n"
        }
      },
      "outputs": [
        {
          "name": "stdout",
          "output_type": "stream",
          "text": [
            "Selected File: E:\\Github\\czitools\\data\\CellDivision_T10_Z15_CH2_DCV_small.czi\n"
          ]
        }
      ],
      "source": [
        "if not IN_COLAB:\n",
        "    filepath = fc.selected\n",
        "elif IN_COLAB:\n",
        "    filepath = wd.value\n",
        "\n",
        "print(f\"Selected File: {filepath}\")"
      ]
    },
    {
      "cell_type": "code",
      "execution_count": 15,
      "metadata": {},
      "outputs": [
        {
          "name": "stderr",
          "output_type": "stream",
          "text": [
            "2024-02-11 14:16:19,465 -  \u001b[0;30;42mINFO\u001b[0m - Reading Dimensions from CZI image data.\n"
          ]
        },
        {
          "name": "stdout",
          "output_type": "stream",
          "text": [
            "SizeS:  None\n",
            "SizeT:  10\n",
            "SizeZ:  15\n",
            "SizeC:  2\n",
            "SizeY:  256\n",
            "SizeX:  256\n"
          ]
        }
      ],
      "source": [
        "# get only specific metadata\n",
        "czi_dimensions = czimd.CziDimensions(filepath)\n",
        "print(\"SizeS: \", czi_dimensions.SizeS)\n",
        "print(\"SizeT: \", czi_dimensions.SizeT)\n",
        "print(\"SizeZ: \", czi_dimensions.SizeZ)\n",
        "print(\"SizeC: \", czi_dimensions.SizeC)\n",
        "print(\"SizeY: \", czi_dimensions.SizeY)\n",
        "print(\"SizeX: \", czi_dimensions.SizeX)"
      ]
    },
    {
      "cell_type": "code",
      "execution_count": 16,
      "metadata": {},
      "outputs": [
        {
          "name": "stderr",
          "output_type": "stream",
          "text": [
            "2024-02-11 14:17:00,463 -  \u001b[0;30;42mINFO\u001b[0m - Reading Scaling from CZI image data.\n",
            "2024-02-11 14:17:00,715 -  \u001b[0;30;42mINFO\u001b[0m - Reading Channel Information from CZI image data.\n",
            "2024-02-11 14:17:00,925 -  \u001b[0;30;42mINFO\u001b[0m - Reading BoundingBoxes from CZI image data.\n",
            "2024-02-11 14:17:00,926 -  \u001b[0;30;42mINFO\u001b[0m - Reading Objective Information from CZI image data.\n",
            "2024-02-11 14:17:01,133 -  \u001b[0;30;42mINFO\u001b[0m - Reading Detector Information from CZI image data.\n",
            "2024-02-11 14:17:01,322 -  \u001b[0;30;42mINFO\u001b[0m - Reading Microscope Information from CZI image data.\n",
            "2024-02-11 14:17:01,516 -  \u001b[0;30;42mINFO\u001b[0m - Reading SampleCarrier Information from CZI image data.\n",
            "2024-02-11 14:17:01,735 -  \u001b[0;30;42mINFO\u001b[0m - Reading Dimensions from CZI image data.\n",
            "2024-02-11 14:17:01,735 -  \u001b[0;30;42mINFO\u001b[0m - No Scene or Well information found. Try to read XY Stage Coordinates from subblocks.\n",
            "2024-02-11 14:17:01,940 -  \u001b[0;30;42mINFO\u001b[0m - Reading Dimensions from CZI image data.\n"
          ]
        }
      ],
      "source": [
        "# and get more info\n",
        "czi_scaling = czimd.CziScaling(filepath)\n",
        "czi_channels = czimd.CziChannelInfo(filepath)\n",
        "czi_bbox = czimd.CziBoundingBox(filepath)\n",
        "czi_objectives = czimd.CziObjectives(filepath)\n",
        "czi_detectors = czimd.CziDetector(filepath)\n",
        "czi_microscope = czimd.CziMicroscope(filepath)\n",
        "czi_sample = czimd.CziSampleInfo(filepath)"
      ]
    },
    {
      "cell_type": "code",
      "execution_count": 17,
      "metadata": {},
      "outputs": [
        {
          "name": "stderr",
          "output_type": "stream",
          "text": [
            "2024-02-11 14:17:08,873 -  \u001b[0;30;42mINFO\u001b[0m - Reading Dimensions from CZI image data.\n",
            "2024-02-11 14:17:08,876 -  \u001b[0;30;42mINFO\u001b[0m - Reading BoundingBoxes from CZI image data.\n",
            "2024-02-11 14:17:08,878 -  \u001b[0;30;42mINFO\u001b[0m - Reading Channel Information from CZI image data.\n",
            "2024-02-11 14:17:08,878 -  \u001b[0;30;42mINFO\u001b[0m - Reading Scaling from CZI image data.\n",
            "2024-02-11 14:17:08,879 -  \u001b[0;30;42mINFO\u001b[0m - Reading Objective Information from CZI image data.\n",
            "2024-02-11 14:17:08,880 -  \u001b[0;30;42mINFO\u001b[0m - Reading Detector Information from CZI image data.\n",
            "2024-02-11 14:17:08,881 -  \u001b[0;30;42mINFO\u001b[0m - Reading Microscope Information from CZI image data.\n",
            "2024-02-11 14:17:08,882 -  \u001b[0;30;42mINFO\u001b[0m - Reading SampleCarrier Information from CZI image data.\n",
            "2024-02-11 14:17:08,883 -  \u001b[0;30;42mINFO\u001b[0m - Reading Dimensions from CZI image data.\n",
            "2024-02-11 14:17:08,884 -  \u001b[0;30;42mINFO\u001b[0m - No Scene or Well information found. Try to read XY Stage Coordinates from subblocks.\n",
            "2024-02-11 14:17:09,118 -  \u001b[0;30;42mINFO\u001b[0m - Reading Dimensions from CZI image data.\n",
            "2024-02-11 14:17:09,126 -  \u001b[0;30;42mINFO\u001b[0m - Reading additional Metedata from CZI image data.\n",
            "2024-02-11 14:17:09,126 -  \u001b[0;30;42mINFO\u001b[0m - No Layers information found.\n",
            "2024-02-11 14:17:09,127 -  \u001b[0;30;42mINFO\u001b[0m - Reading AttachmentImages from CZI image data.\n"
          ]
        },
        {
          "data": {
            "application/vnd.jupyter.widget-view+json": {
              "model_id": "818184c9a2de4917b0cb1393db30070d",
              "version_major": 2,
              "version_minor": 0
            },
            "text/plain": [
              "VBox(children=(Output(layout=Layout(height='300px')),))"
            ]
          },
          "metadata": {},
          "output_type": "display_data"
        }
      ],
      "source": [
        "# get the complete metadata at once as one big class\n",
        "mdata = czimd.CziMetadata(filepath)\n",
        "\n",
        "# get the CZI metadata dictionary directly from filename\n",
        "mdict = czimd.create_md_dict_red(mdata, sort=False, remove_none=True)\n",
        "\n",
        "# convert metadata dictionary to a pandas dataframe\n",
        "mdframe = misc_tools.md2dataframe(mdict)\n",
        "\n",
        "# create a ipywdiget to show the dataframe with the metadata\n",
        "wd1 = widgets.Output(layout={\"scrollY\": \"auto\", \"height\": \"300px\"})\n",
        "\n",
        "with wd1:\n",
        "    display(HTML(mdframe.to_html()))\n",
        "display(widgets.VBox(children=[wd1]))"
      ]
    },
    {
      "cell_type": "code",
      "execution_count": 18,
      "metadata": {},
      "outputs": [
        {
          "name": "stdout",
          "output_type": "stream",
          "text": [
            "XML File written to: E:\\Github\\czitools\\data\\CellDivision_T10_Z15_CH2_DCV_small_CZI_MetaData.xml\n"
          ]
        }
      ],
      "source": [
        "# write XML to disk\n",
        "xmlfile = czimd.writexml(filepath)\n",
        "print(\"XML File written to:\", xmlfile)"
      ]
    },
    {
      "cell_type": "code",
      "execution_count": 19,
      "metadata": {},
      "outputs": [
        {
          "name": "stderr",
          "output_type": "stream",
          "text": [
            "2024-02-11 14:17:24,800 -  \u001b[0;30;42mINFO\u001b[0m - Reading Dimensions from CZI image data.\n",
            "2024-02-11 14:17:25,318 -  \u001b[0;30;42mINFO\u001b[0m - PlaneTable saved as CSV file: E:\\Github\\czitools\\data\\CellDivision_T10_Z15_CH2_DCV_small_planetable.csv\n"
          ]
        },
        {
          "data": {
            "application/vnd.jupyter.widget-view+json": {
              "model_id": "6b91d698bf86434ea0aedfb56da6dfd5",
              "version_major": 2,
              "version_minor": 0
            },
            "text/plain": [
              "VBox(children=(Output(layout=Layout(height='300px')),))"
            ]
          },
          "metadata": {},
          "output_type": "display_data"
        },
        {
          "name": "stdout",
          "output_type": "stream",
          "text": [
            "PlaneTable CSV File written to: E:\\Github\\czitools\\data\\CellDivision_T10_Z15_CH2_DCV_small_planetable.csv\n"
          ]
        }
      ],
      "source": [
        "# get the planetable for the CZI file\n",
        "pt, csvfile = misc_tools.get_planetable(filepath,\n",
        "                                  norm_time=True,\n",
        "                                  savetable=True,\n",
        "                                  separator=',',\n",
        "                                  index=True)\n",
        "\n",
        "# create a ipywdiget to show the dataframe with the metadata\n",
        "wd2 = widgets.Output(layout={\"scrollY\": \"auto\", \"height\": \"300px\"})\n",
        "\n",
        "with wd2:\n",
        "    display(HTML(pt.to_html()))\n",
        "display(widgets.VBox(children=[wd2]))\n",
        "\n",
        "print(\"PlaneTable CSV File written to:\", csvfile)"
      ]
    }
  ],
  "metadata": {
    "kernelspec": {
      "display_name": "ia39",
      "language": "python",
      "name": "python3"
    },
    "language_info": {
      "codemirror_mode": {
        "name": "ipython",
        "version": 3
      },
      "file_extension": ".py",
      "mimetype": "text/x-python",
      "name": "python",
      "nbconvert_exporter": "python",
      "pygments_lexer": "ipython3",
      "version": "3.10.13"
    },
    "vscode": {
      "interpreter": {
        "hash": "860439aa1091ca9628697fade70363ec3e96a6399b1dfa15ee9e896d1606a397"
      }
    }
  },
  "nbformat": 4,
  "nbformat_minor": 4
}
